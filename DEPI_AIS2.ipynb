{
  "cells": [
    {
      "cell_type": "code",
      "execution_count": null,
      "metadata": {
        "id": "LCgGX19SaQAT"
      },
      "outputs": [
        {
          "data": {
            "text/plain": [
              "Data source import complete.\n"
            ]
          },
          "metadata": {},
          "output_type": "display_data"
        }
      ],
      "source": [
        "# IMPORTANT: RUN THIS CELL IN ORDER TO IMPORT YOUR KAGGLE DATA SOURCES,\n",
        "# THEN FEEL FREE TO DELETE THIS CELL.\n",
        "# NOTE: THIS NOTEBOOK ENVIRONMENT DIFFERS FROM KAGGLE'S PYTHON\n",
        "# ENVIRONMENT SO THERE MAY BE MISSING LIBRARIES USED BY YOUR\n",
        "# NOTEBOOK.\n",
        "import kagglehub\n",
        "fedesoriano_heart_failure_prediction_path = kagglehub.dataset_download('fedesoriano/heart-failure-prediction')\n",
        "\n",
        "print('Data source import complete.')\n"
      ]
    },
    {
      "cell_type": "code",
      "execution_count": null,
      "metadata": {
        "_cell_guid": "b1076dfc-b9ad-4769-8c92-a6c4dae69d19",
        "_uuid": "8f2839f25d086af736a60e9eeb907d3b93b6e0e5",
        "execution": {
          "iopub.execute_input": "2025-01-28T18:30:30.132066Z",
          "iopub.status.busy": "2025-01-28T18:30:30.131491Z",
          "iopub.status.idle": "2025-01-28T18:30:37.22651Z",
          "shell.execute_reply": "2025-01-28T18:30:37.225399Z",
          "shell.execute_reply.started": "2025-01-28T18:30:30.13202Z"
        },
        "id": "2FLvDbYQaQAZ",
        "trusted": true
      },
      "outputs": [
        {
          "data": {
            "text/plain": [
              "Traceback (most recent call last):\n",
              "  File \"c:\\Users\\99896\\.vscode\\extensions\\ms-python.python-2024.22.2-win32-x64\\python_files\\python_server.py\", line 133, in exec_user_input\n",
              "    retval = callable_(user_input, user_globals)\n",
              "             ^^^^^^^^^^^^^^^^^^^^^^^^^^^^^^^^^^^\n",
              "  File \"<string>\", line 6, in <module>\n",
              "  File \"C:\\Users\\99896\\AppData\\Roaming\\Python\\Python312\\site-packages\\sklearn\\__init__.py\", line 73, in <module>\n",
              "    from .base import clone  # noqa: E402\n",
              "    ^^^^^^^^^^^^^^^^^^^^^^^\n",
              "  File \"C:\\Users\\99896\\AppData\\Roaming\\Python\\Python312\\site-packages\\sklearn\\base.py\", line 19, in <module>\n",
              "    from .utils._estimator_html_repr import _HTMLDocumentationLinkMixin, estimator_html_repr\n",
              "  File \"C:\\Users\\99896\\AppData\\Roaming\\Python\\Python312\\site-packages\\sklearn\\utils\\__init__.py\", line 15, in <module>\n",
              "    from ._chunking import gen_batches, gen_even_slices\n",
              "  File \"C:\\Users\\99896\\AppData\\Roaming\\Python\\Python312\\site-packages\\sklearn\\utils\\_chunking.py\", line 11, in <module>\n",
              "    from ._param_validation import Interval, validate_params\n",
              "  File \"C:\\Users\\99896\\AppData\\Roaming\\Python\\Python312\\site-packages\\sklearn\\utils\\_param_validation.py\", line 14, in <module>\n",
              "    from scipy.sparse import csr_matrix, issparse\n",
              "  File \"C:\\Users\\99896\\AppData\\Roaming\\Python\\Python312\\site-packages\\scipy\\sparse\\__init__.py\", line 300, in <module>\n",
              "    from ._base import *\n",
              "  File \"C:\\Users\\99896\\AppData\\Roaming\\Python\\Python312\\site-packages\\scipy\\sparse\\_base.py\", line 5, in <module>\n",
              "    from ._sputils import (asmatrix, check_reshape_kwargs, check_shape,\n",
              "  File \"C:\\Users\\99896\\AppData\\Roaming\\Python\\Python312\\site-packages\\scipy\\sparse\\_sputils.py\", line 10, in <module>\n",
              "    from scipy._lib._util import np_long, np_ulong\n",
              "  File \"C:\\Users\\99896\\AppData\\Roaming\\Python\\Python312\\site-packages\\scipy\\_lib\\_util.py\", line 13, in <module>\n",
              "    from scipy._lib._array_api import array_namespace, is_numpy, xp_size\n",
              "  File \"C:\\Users\\99896\\AppData\\Roaming\\Python\\Python312\\site-packages\\scipy\\_lib\\_array_api.py\", line 18, in <module>\n",
              "    from scipy._lib.array_api_compat import (\n",
              "  File \"C:\\Users\\99896\\AppData\\Roaming\\Python\\Python312\\site-packages\\scipy\\_lib\\array_api_compat\\numpy\\__init__.py\", line 1, in <module>\n",
              "    from numpy import * # noqa: F403\n",
              "    ^^^^^^^^^^^^^^^^^^^\n",
              "  File \"C:\\Users\\99896\\AppData\\Roaming\\Python\\Python312\\site-packages\\numpy\\__init__.py\", line 381, in __getattr__\n",
              "    msg = (\"The current Numpy installation ({!r}) fails to \"\n",
              "    ^^^^^^^^^^^^^^^^^^^^^^^^^\n",
              "ModuleNotFoundError: No module named 'numpy.char'\n",
              "\n"
            ]
          },
          "metadata": {},
          "output_type": "display_data"
        }
      ],
      "source": [
        "import numpy as np\n",
        "import pandas as pd\n",
        "import matplotlib.pyplot as plt\n",
        "import seaborn as sns\n",
        "\n",
        "from sklearn.preprocessing import LabelEncoder\n",
        "from sklearn.model_selection import train_test_split\n",
        "\n",
        "from sklearn.linear_model import LogisticRegression\n",
        "from sklearn.svm import SVC\n",
        "from sklearn.tree import DecisionTreeClassifier\n",
        "from sklearn.neighbors import KNeighborsClassifier\n",
        "from sklearn.ensemble import RandomForestClassifier, BaggingClassifier, ExtraTreesClassifier, AdaBoostClassifier, VotingClassifier, StackingClassifier\n",
        "from xgboost import XGBClassifier\n",
        "from catboost import CatBoostClassifier\n",
        "from lightgbm import LGBMClassifier\n",
        "\n",
        "from sklearn.metrics import accuracy_score, confusion_matrix, classification_report"
      ]
    },
    {
      "cell_type": "code",
      "execution_count": null,
      "metadata": {
        "execution": {
          "iopub.execute_input": "2025-01-28T18:30:37.228468Z",
          "iopub.status.busy": "2025-01-28T18:30:37.227793Z",
          "iopub.status.idle": "2025-01-28T18:30:37.257535Z",
          "shell.execute_reply": "2025-01-28T18:30:37.256414Z",
          "shell.execute_reply.started": "2025-01-28T18:30:37.22843Z"
        },
        "id": "wqm-FF5eaQAa",
        "trusted": true
      },
      "outputs": [],
      "source": [
        "df = pd.read_csv('/kaggle/input/heart-failure-prediction/heart.csv')"
      ]
    },
    {
      "cell_type": "code",
      "execution_count": null,
      "metadata": {
        "execution": {
          "iopub.execute_input": "2025-01-28T18:30:37.259623Z",
          "iopub.status.busy": "2025-01-28T18:30:37.259254Z",
          "iopub.status.idle": "2025-01-28T18:30:37.297598Z",
          "shell.execute_reply": "2025-01-28T18:30:37.296396Z",
          "shell.execute_reply.started": "2025-01-28T18:30:37.259589Z"
        },
        "id": "ExDuPrltaQAb",
        "outputId": "e4a52144-954e-44d0-8d7d-6e5a5d41e0bd",
        "trusted": true
      },
      "outputs": [
        {
          "data": {
            "text/html": [
              "<div>\n",
              "<style scoped>\n",
              "    .dataframe tbody tr th:only-of-type {\n",
              "        vertical-align: middle;\n",
              "    }\n",
              "\n",
              "    .dataframe tbody tr th {\n",
              "        vertical-align: top;\n",
              "    }\n",
              "\n",
              "    .dataframe thead th {\n",
              "        text-align: right;\n",
              "    }\n",
              "</style>\n",
              "<table border=\"1\" class=\"dataframe\">\n",
              "  <thead>\n",
              "    <tr style=\"text-align: right;\">\n",
              "      <th></th>\n",
              "      <th>Age</th>\n",
              "      <th>Sex</th>\n",
              "      <th>ChestPainType</th>\n",
              "      <th>RestingBP</th>\n",
              "      <th>Cholesterol</th>\n",
              "      <th>FastingBS</th>\n",
              "      <th>RestingECG</th>\n",
              "      <th>MaxHR</th>\n",
              "      <th>ExerciseAngina</th>\n",
              "      <th>Oldpeak</th>\n",
              "      <th>ST_Slope</th>\n",
              "      <th>HeartDisease</th>\n",
              "    </tr>\n",
              "  </thead>\n",
              "  <tbody>\n",
              "    <tr>\n",
              "      <th>0</th>\n",
              "      <td>40</td>\n",
              "      <td>M</td>\n",
              "      <td>ATA</td>\n",
              "      <td>140</td>\n",
              "      <td>289</td>\n",
              "      <td>0</td>\n",
              "      <td>Normal</td>\n",
              "      <td>172</td>\n",
              "      <td>N</td>\n",
              "      <td>0.0</td>\n",
              "      <td>Up</td>\n",
              "      <td>0</td>\n",
              "    </tr>\n",
              "    <tr>\n",
              "      <th>1</th>\n",
              "      <td>49</td>\n",
              "      <td>F</td>\n",
              "      <td>NAP</td>\n",
              "      <td>160</td>\n",
              "      <td>180</td>\n",
              "      <td>0</td>\n",
              "      <td>Normal</td>\n",
              "      <td>156</td>\n",
              "      <td>N</td>\n",
              "      <td>1.0</td>\n",
              "      <td>Flat</td>\n",
              "      <td>1</td>\n",
              "    </tr>\n",
              "    <tr>\n",
              "      <th>2</th>\n",
              "      <td>37</td>\n",
              "      <td>M</td>\n",
              "      <td>ATA</td>\n",
              "      <td>130</td>\n",
              "      <td>283</td>\n",
              "      <td>0</td>\n",
              "      <td>ST</td>\n",
              "      <td>98</td>\n",
              "      <td>N</td>\n",
              "      <td>0.0</td>\n",
              "      <td>Up</td>\n",
              "      <td>0</td>\n",
              "    </tr>\n",
              "    <tr>\n",
              "      <th>3</th>\n",
              "      <td>48</td>\n",
              "      <td>F</td>\n",
              "      <td>ASY</td>\n",
              "      <td>138</td>\n",
              "      <td>214</td>\n",
              "      <td>0</td>\n",
              "      <td>Normal</td>\n",
              "      <td>108</td>\n",
              "      <td>Y</td>\n",
              "      <td>1.5</td>\n",
              "      <td>Flat</td>\n",
              "      <td>1</td>\n",
              "    </tr>\n",
              "    <tr>\n",
              "      <th>4</th>\n",
              "      <td>54</td>\n",
              "      <td>M</td>\n",
              "      <td>NAP</td>\n",
              "      <td>150</td>\n",
              "      <td>195</td>\n",
              "      <td>0</td>\n",
              "      <td>Normal</td>\n",
              "      <td>122</td>\n",
              "      <td>N</td>\n",
              "      <td>0.0</td>\n",
              "      <td>Up</td>\n",
              "      <td>0</td>\n",
              "    </tr>\n",
              "  </tbody>\n",
              "</table>\n",
              "</div>"
            ],
            "text/plain": [
              "   Age Sex ChestPainType  RestingBP  Cholesterol  FastingBS RestingECG  MaxHR  \\\n",
              "0   40   M           ATA        140          289          0     Normal    172   \n",
              "1   49   F           NAP        160          180          0     Normal    156   \n",
              "2   37   M           ATA        130          283          0         ST     98   \n",
              "3   48   F           ASY        138          214          0     Normal    108   \n",
              "4   54   M           NAP        150          195          0     Normal    122   \n",
              "\n",
              "  ExerciseAngina  Oldpeak ST_Slope  HeartDisease  \n",
              "0              N      0.0       Up             0  \n",
              "1              N      1.0     Flat             1  \n",
              "2              N      0.0       Up             0  \n",
              "3              Y      1.5     Flat             1  \n",
              "4              N      0.0       Up             0  "
            ]
          },
          "execution_count": 7,
          "metadata": {},
          "output_type": "execute_result"
        }
      ],
      "source": [
        "df.head()"
      ]
    },
    {
      "cell_type": "code",
      "execution_count": null,
      "metadata": {
        "execution": {
          "iopub.execute_input": "2025-01-28T18:30:37.299099Z",
          "iopub.status.busy": "2025-01-28T18:30:37.298736Z",
          "iopub.status.idle": "2025-01-28T18:30:37.338545Z",
          "shell.execute_reply": "2025-01-28T18:30:37.337331Z",
          "shell.execute_reply.started": "2025-01-28T18:30:37.299068Z"
        },
        "id": "7wwAJ-kuaQAc",
        "outputId": "31a6ea89-f30a-4359-c738-a919d92dab03",
        "trusted": true
      },
      "outputs": [
        {
          "name": "stdout",
          "output_type": "stream",
          "text": [
            "<class 'pandas.core.frame.DataFrame'>\n",
            "RangeIndex: 918 entries, 0 to 917\n",
            "Data columns (total 12 columns):\n",
            " #   Column          Non-Null Count  Dtype  \n",
            "---  ------          --------------  -----  \n",
            " 0   Age             918 non-null    int64  \n",
            " 1   Sex             918 non-null    object \n",
            " 2   ChestPainType   918 non-null    object \n",
            " 3   RestingBP       918 non-null    int64  \n",
            " 4   Cholesterol     918 non-null    int64  \n",
            " 5   FastingBS       918 non-null    int64  \n",
            " 6   RestingECG      918 non-null    object \n",
            " 7   MaxHR           918 non-null    int64  \n",
            " 8   ExerciseAngina  918 non-null    object \n",
            " 9   Oldpeak         918 non-null    float64\n",
            " 10  ST_Slope        918 non-null    object \n",
            " 11  HeartDisease    918 non-null    int64  \n",
            "dtypes: float64(1), int64(6), object(5)\n",
            "memory usage: 86.2+ KB\n"
          ]
        }
      ],
      "source": [
        "df.info()"
      ]
    },
    {
      "cell_type": "markdown",
      "metadata": {
        "id": "W5-BMPYmaQAd"
      },
      "source": [
        "### **Preprocessing**"
      ]
    },
    {
      "cell_type": "code",
      "execution_count": null,
      "metadata": {
        "execution": {
          "iopub.execute_input": "2025-01-28T18:30:42.44336Z",
          "iopub.status.busy": "2025-01-28T18:30:42.443014Z",
          "iopub.status.idle": "2025-01-28T18:30:42.453386Z",
          "shell.execute_reply": "2025-01-28T18:30:42.451778Z",
          "shell.execute_reply.started": "2025-01-28T18:30:42.443334Z"
        },
        "id": "r1qfW1RCaQAe",
        "trusted": true
      },
      "outputs": [],
      "source": [
        "columns_to_remove = ['Oldpeak', 'RestingECG', 'ChestPainType','ST_Slope']\n",
        "\n",
        "# Drop the columns\n",
        "df = df.drop(columns=columns_to_remove, axis=1)"
      ]
    },
    {
      "cell_type": "code",
      "execution_count": null,
      "metadata": {
        "execution": {
          "iopub.execute_input": "2025-01-28T18:30:42.705582Z",
          "iopub.status.busy": "2025-01-28T18:30:42.70525Z",
          "iopub.status.idle": "2025-01-28T18:30:42.713294Z",
          "shell.execute_reply": "2025-01-28T18:30:42.711976Z",
          "shell.execute_reply.started": "2025-01-28T18:30:42.705557Z"
        },
        "id": "fOUw7VndaQAf",
        "trusted": true
      },
      "outputs": [],
      "source": [
        "X = df.drop(columns=['HeartDisease'])\n",
        "y = df['HeartDisease']"
      ]
    },
    {
      "cell_type": "code",
      "execution_count": null,
      "metadata": {
        "execution": {
          "iopub.execute_input": "2025-01-28T18:30:42.925494Z",
          "iopub.status.busy": "2025-01-28T18:30:42.925163Z",
          "iopub.status.idle": "2025-01-28T18:30:42.938477Z",
          "shell.execute_reply": "2025-01-28T18:30:42.937469Z",
          "shell.execute_reply.started": "2025-01-28T18:30:42.925469Z"
        },
        "id": "4yUfQ9S4aQAg",
        "outputId": "57fbb1bd-c6a8-44e4-f2e3-96f583446a4e",
        "trusted": true
      },
      "outputs": [
        {
          "data": {
            "text/html": [
              "<div>\n",
              "<style scoped>\n",
              "    .dataframe tbody tr th:only-of-type {\n",
              "        vertical-align: middle;\n",
              "    }\n",
              "\n",
              "    .dataframe tbody tr th {\n",
              "        vertical-align: top;\n",
              "    }\n",
              "\n",
              "    .dataframe thead th {\n",
              "        text-align: right;\n",
              "    }\n",
              "</style>\n",
              "<table border=\"1\" class=\"dataframe\">\n",
              "  <thead>\n",
              "    <tr style=\"text-align: right;\">\n",
              "      <th></th>\n",
              "      <th>Age</th>\n",
              "      <th>Sex</th>\n",
              "      <th>RestingBP</th>\n",
              "      <th>Cholesterol</th>\n",
              "      <th>FastingBS</th>\n",
              "      <th>MaxHR</th>\n",
              "    </tr>\n",
              "  </thead>\n",
              "  <tbody>\n",
              "    <tr>\n",
              "      <th>0</th>\n",
              "      <td>40</td>\n",
              "      <td>M</td>\n",
              "      <td>140</td>\n",
              "      <td>289</td>\n",
              "      <td>0</td>\n",
              "      <td>172</td>\n",
              "    </tr>\n",
              "    <tr>\n",
              "      <th>1</th>\n",
              "      <td>49</td>\n",
              "      <td>F</td>\n",
              "      <td>160</td>\n",
              "      <td>180</td>\n",
              "      <td>0</td>\n",
              "      <td>156</td>\n",
              "    </tr>\n",
              "    <tr>\n",
              "      <th>2</th>\n",
              "      <td>37</td>\n",
              "      <td>M</td>\n",
              "      <td>130</td>\n",
              "      <td>283</td>\n",
              "      <td>0</td>\n",
              "      <td>98</td>\n",
              "    </tr>\n",
              "    <tr>\n",
              "      <th>3</th>\n",
              "      <td>48</td>\n",
              "      <td>F</td>\n",
              "      <td>138</td>\n",
              "      <td>214</td>\n",
              "      <td>0</td>\n",
              "      <td>108</td>\n",
              "    </tr>\n",
              "    <tr>\n",
              "      <th>4</th>\n",
              "      <td>54</td>\n",
              "      <td>M</td>\n",
              "      <td>150</td>\n",
              "      <td>195</td>\n",
              "      <td>0</td>\n",
              "      <td>122</td>\n",
              "    </tr>\n",
              "    <tr>\n",
              "      <th>...</th>\n",
              "      <td>...</td>\n",
              "      <td>...</td>\n",
              "      <td>...</td>\n",
              "      <td>...</td>\n",
              "      <td>...</td>\n",
              "      <td>...</td>\n",
              "    </tr>\n",
              "    <tr>\n",
              "      <th>913</th>\n",
              "      <td>45</td>\n",
              "      <td>M</td>\n",
              "      <td>110</td>\n",
              "      <td>264</td>\n",
              "      <td>0</td>\n",
              "      <td>132</td>\n",
              "    </tr>\n",
              "    <tr>\n",
              "      <th>914</th>\n",
              "      <td>68</td>\n",
              "      <td>M</td>\n",
              "      <td>144</td>\n",
              "      <td>193</td>\n",
              "      <td>1</td>\n",
              "      <td>141</td>\n",
              "    </tr>\n",
              "    <tr>\n",
              "      <th>915</th>\n",
              "      <td>57</td>\n",
              "      <td>M</td>\n",
              "      <td>130</td>\n",
              "      <td>131</td>\n",
              "      <td>0</td>\n",
              "      <td>115</td>\n",
              "    </tr>\n",
              "    <tr>\n",
              "      <th>916</th>\n",
              "      <td>57</td>\n",
              "      <td>F</td>\n",
              "      <td>130</td>\n",
              "      <td>236</td>\n",
              "      <td>0</td>\n",
              "      <td>174</td>\n",
              "    </tr>\n",
              "    <tr>\n",
              "      <th>917</th>\n",
              "      <td>38</td>\n",
              "      <td>M</td>\n",
              "      <td>138</td>\n",
              "      <td>175</td>\n",
              "      <td>0</td>\n",
              "      <td>173</td>\n",
              "    </tr>\n",
              "  </tbody>\n",
              "</table>\n",
              "<p>918 rows × 6 columns</p>\n",
              "</div>"
            ],
            "text/plain": [
              "     Age Sex  RestingBP  Cholesterol  FastingBS  MaxHR\n",
              "0     40   M        140          289          0    172\n",
              "1     49   F        160          180          0    156\n",
              "2     37   M        130          283          0     98\n",
              "3     48   F        138          214          0    108\n",
              "4     54   M        150          195          0    122\n",
              "..   ...  ..        ...          ...        ...    ...\n",
              "913   45   M        110          264          0    132\n",
              "914   68   M        144          193          1    141\n",
              "915   57   M        130          131          0    115\n",
              "916   57   F        130          236          0    174\n",
              "917   38   M        138          175          0    173\n",
              "\n",
              "[918 rows x 6 columns]"
            ]
          },
          "execution_count": 11,
          "metadata": {},
          "output_type": "execute_result"
        }
      ],
      "source": [
        "X"
      ]
    },
    {
      "cell_type": "code",
      "execution_count": null,
      "metadata": {
        "execution": {
          "iopub.execute_input": "2025-01-28T18:30:43.175429Z",
          "iopub.status.busy": "2025-01-28T18:30:43.175086Z",
          "iopub.status.idle": "2025-01-28T18:30:43.183029Z",
          "shell.execute_reply": "2025-01-28T18:30:43.181753Z",
          "shell.execute_reply.started": "2025-01-28T18:30:43.175405Z"
        },
        "id": "GmolPSWFaQAg",
        "outputId": "61263a34-06e3-4e03-c2c6-6bdeda8b58bf",
        "trusted": true
      },
      "outputs": [
        {
          "data": {
            "text/plain": [
              "0      0\n",
              "1      1\n",
              "2      0\n",
              "3      1\n",
              "4      0\n",
              "      ..\n",
              "913    1\n",
              "914    1\n",
              "915    1\n",
              "916    1\n",
              "917    0\n",
              "Name: HeartDisease, Length: 918, dtype: int64"
            ]
          },
          "execution_count": 12,
          "metadata": {},
          "output_type": "execute_result"
        }
      ],
      "source": [
        "y"
      ]
    },
    {
      "cell_type": "code",
      "execution_count": null,
      "metadata": {
        "execution": {
          "iopub.execute_input": "2025-01-28T18:30:43.405412Z",
          "iopub.status.busy": "2025-01-28T18:30:43.405091Z",
          "iopub.status.idle": "2025-01-28T18:30:43.41099Z",
          "shell.execute_reply": "2025-01-28T18:30:43.409702Z",
          "shell.execute_reply.started": "2025-01-28T18:30:43.405389Z"
        },
        "id": "C4PhjuedaQAh",
        "trusted": true
      },
      "outputs": [],
      "source": [
        "encoder = LabelEncoder()\n",
        "\n",
        "X['Sex'] = encoder.fit_transform(X['Sex'])\n",
        "# X['ChestPainType'] = encoder.fit_transform(X['ChestPainType'])\n",
        "# X['RestingECG'] = encoder.fit_transform(X['RestingECG'])\n",
        "X['ExerciseAngina'] = encoder.fit_transform(X['ExerciseAngina'])\n",
        "# X['ST_Slope'] = encoder.fit_transform(X['ST_Slope'])"
      ]
    },
    {
      "cell_type": "code",
      "execution_count": null,
      "metadata": {
        "execution": {
          "iopub.execute_input": "2025-01-28T18:30:47.29168Z",
          "iopub.status.busy": "2025-01-28T18:30:47.291299Z",
          "iopub.status.idle": "2025-01-28T18:30:47.30453Z",
          "shell.execute_reply": "2025-01-28T18:30:47.303235Z",
          "shell.execute_reply.started": "2025-01-28T18:30:47.291642Z"
        },
        "id": "QUIban6CaQAh",
        "outputId": "1f1dacad-4795-40db-d5a6-02353b13f7bb",
        "trusted": true
      },
      "outputs": [
        {
          "data": {
            "text/html": [
              "<div>\n",
              "<style scoped>\n",
              "    .dataframe tbody tr th:only-of-type {\n",
              "        vertical-align: middle;\n",
              "    }\n",
              "\n",
              "    .dataframe tbody tr th {\n",
              "        vertical-align: top;\n",
              "    }\n",
              "\n",
              "    .dataframe thead th {\n",
              "        text-align: right;\n",
              "    }\n",
              "</style>\n",
              "<table border=\"1\" class=\"dataframe\">\n",
              "  <thead>\n",
              "    <tr style=\"text-align: right;\">\n",
              "      <th></th>\n",
              "      <th>Age</th>\n",
              "      <th>Sex</th>\n",
              "      <th>RestingBP</th>\n",
              "      <th>Cholesterol</th>\n",
              "      <th>FastingBS</th>\n",
              "      <th>MaxHR</th>\n",
              "    </tr>\n",
              "  </thead>\n",
              "  <tbody>\n",
              "    <tr>\n",
              "      <th>0</th>\n",
              "      <td>40</td>\n",
              "      <td>1</td>\n",
              "      <td>140</td>\n",
              "      <td>289</td>\n",
              "      <td>0</td>\n",
              "      <td>172</td>\n",
              "    </tr>\n",
              "    <tr>\n",
              "      <th>1</th>\n",
              "      <td>49</td>\n",
              "      <td>0</td>\n",
              "      <td>160</td>\n",
              "      <td>180</td>\n",
              "      <td>0</td>\n",
              "      <td>156</td>\n",
              "    </tr>\n",
              "    <tr>\n",
              "      <th>2</th>\n",
              "      <td>37</td>\n",
              "      <td>1</td>\n",
              "      <td>130</td>\n",
              "      <td>283</td>\n",
              "      <td>0</td>\n",
              "      <td>98</td>\n",
              "    </tr>\n",
              "    <tr>\n",
              "      <th>3</th>\n",
              "      <td>48</td>\n",
              "      <td>0</td>\n",
              "      <td>138</td>\n",
              "      <td>214</td>\n",
              "      <td>0</td>\n",
              "      <td>108</td>\n",
              "    </tr>\n",
              "    <tr>\n",
              "      <th>4</th>\n",
              "      <td>54</td>\n",
              "      <td>1</td>\n",
              "      <td>150</td>\n",
              "      <td>195</td>\n",
              "      <td>0</td>\n",
              "      <td>122</td>\n",
              "    </tr>\n",
              "    <tr>\n",
              "      <th>...</th>\n",
              "      <td>...</td>\n",
              "      <td>...</td>\n",
              "      <td>...</td>\n",
              "      <td>...</td>\n",
              "      <td>...</td>\n",
              "      <td>...</td>\n",
              "    </tr>\n",
              "    <tr>\n",
              "      <th>913</th>\n",
              "      <td>45</td>\n",
              "      <td>1</td>\n",
              "      <td>110</td>\n",
              "      <td>264</td>\n",
              "      <td>0</td>\n",
              "      <td>132</td>\n",
              "    </tr>\n",
              "    <tr>\n",
              "      <th>914</th>\n",
              "      <td>68</td>\n",
              "      <td>1</td>\n",
              "      <td>144</td>\n",
              "      <td>193</td>\n",
              "      <td>1</td>\n",
              "      <td>141</td>\n",
              "    </tr>\n",
              "    <tr>\n",
              "      <th>915</th>\n",
              "      <td>57</td>\n",
              "      <td>1</td>\n",
              "      <td>130</td>\n",
              "      <td>131</td>\n",
              "      <td>0</td>\n",
              "      <td>115</td>\n",
              "    </tr>\n",
              "    <tr>\n",
              "      <th>916</th>\n",
              "      <td>57</td>\n",
              "      <td>0</td>\n",
              "      <td>130</td>\n",
              "      <td>236</td>\n",
              "      <td>0</td>\n",
              "      <td>174</td>\n",
              "    </tr>\n",
              "    <tr>\n",
              "      <th>917</th>\n",
              "      <td>38</td>\n",
              "      <td>1</td>\n",
              "      <td>138</td>\n",
              "      <td>175</td>\n",
              "      <td>0</td>\n",
              "      <td>173</td>\n",
              "    </tr>\n",
              "  </tbody>\n",
              "</table>\n",
              "<p>918 rows × 6 columns</p>\n",
              "</div>"
            ],
            "text/plain": [
              "     Age  Sex  RestingBP  Cholesterol  FastingBS  MaxHR\n",
              "0     40    1        140          289          0    172\n",
              "1     49    0        160          180          0    156\n",
              "2     37    1        130          283          0     98\n",
              "3     48    0        138          214          0    108\n",
              "4     54    1        150          195          0    122\n",
              "..   ...  ...        ...          ...        ...    ...\n",
              "913   45    1        110          264          0    132\n",
              "914   68    1        144          193          1    141\n",
              "915   57    1        130          131          0    115\n",
              "916   57    0        130          236          0    174\n",
              "917   38    1        138          175          0    173\n",
              "\n",
              "[918 rows x 6 columns]"
            ]
          },
          "execution_count": 14,
          "metadata": {},
          "output_type": "execute_result"
        }
      ],
      "source": [
        "X"
      ]
    },
    {
      "cell_type": "code",
      "execution_count": null,
      "metadata": {
        "execution": {
          "iopub.execute_input": "2025-01-28T18:30:47.508078Z",
          "iopub.status.busy": "2025-01-28T18:30:47.50769Z",
          "iopub.status.idle": "2025-01-28T18:30:47.515841Z",
          "shell.execute_reply": "2025-01-28T18:30:47.514429Z",
          "shell.execute_reply.started": "2025-01-28T18:30:47.508046Z"
        },
        "id": "BGQw1PJ8aQAh",
        "trusted": true
      },
      "outputs": [],
      "source": [
        "X_train, X_test, y_train, y_test = train_test_split(X, y, train_size=0.8, random_state=42)"
      ]
    },
    {
      "cell_type": "markdown",
      "metadata": {
        "id": "GxRbvMepaQAh"
      },
      "source": [
        "### **Data Modeling**"
      ]
    },
    {
      "cell_type": "code",
      "execution_count": null,
      "metadata": {
        "execution": {
          "iopub.execute_input": "2025-01-28T18:30:47.892971Z",
          "iopub.status.busy": "2025-01-28T18:30:47.892534Z",
          "iopub.status.idle": "2025-01-28T18:30:47.957202Z",
          "shell.execute_reply": "2025-01-28T18:30:47.956236Z",
          "shell.execute_reply.started": "2025-01-28T18:30:47.892907Z"
        },
        "id": "vB4fzciwaQAi",
        "outputId": "e731d8be-d9a2-4a24-fdc5-5ba9bca5591b",
        "trusted": true
      },
      "outputs": [
        {
          "data": {
            "text/html": [
              "<style>#sk-container-id-1 {color: black;background-color: white;}#sk-container-id-1 pre{padding: 0;}#sk-container-id-1 div.sk-toggleable {background-color: white;}#sk-container-id-1 label.sk-toggleable__label {cursor: pointer;display: block;width: 100%;margin-bottom: 0;padding: 0.3em;box-sizing: border-box;text-align: center;}#sk-container-id-1 label.sk-toggleable__label-arrow:before {content: \"▸\";float: left;margin-right: 0.25em;color: #696969;}#sk-container-id-1 label.sk-toggleable__label-arrow:hover:before {color: black;}#sk-container-id-1 div.sk-estimator:hover label.sk-toggleable__label-arrow:before {color: black;}#sk-container-id-1 div.sk-toggleable__content {max-height: 0;max-width: 0;overflow: hidden;text-align: left;background-color: #f0f8ff;}#sk-container-id-1 div.sk-toggleable__content pre {margin: 0.2em;color: black;border-radius: 0.25em;background-color: #f0f8ff;}#sk-container-id-1 input.sk-toggleable__control:checked~div.sk-toggleable__content {max-height: 200px;max-width: 100%;overflow: auto;}#sk-container-id-1 input.sk-toggleable__control:checked~label.sk-toggleable__label-arrow:before {content: \"▾\";}#sk-container-id-1 div.sk-estimator input.sk-toggleable__control:checked~label.sk-toggleable__label {background-color: #d4ebff;}#sk-container-id-1 div.sk-label input.sk-toggleable__control:checked~label.sk-toggleable__label {background-color: #d4ebff;}#sk-container-id-1 input.sk-hidden--visually {border: 0;clip: rect(1px 1px 1px 1px);clip: rect(1px, 1px, 1px, 1px);height: 1px;margin: -1px;overflow: hidden;padding: 0;position: absolute;width: 1px;}#sk-container-id-1 div.sk-estimator {font-family: monospace;background-color: #f0f8ff;border: 1px dotted black;border-radius: 0.25em;box-sizing: border-box;margin-bottom: 0.5em;}#sk-container-id-1 div.sk-estimator:hover {background-color: #d4ebff;}#sk-container-id-1 div.sk-parallel-item::after {content: \"\";width: 100%;border-bottom: 1px solid gray;flex-grow: 1;}#sk-container-id-1 div.sk-label:hover label.sk-toggleable__label {background-color: #d4ebff;}#sk-container-id-1 div.sk-serial::before {content: \"\";position: absolute;border-left: 1px solid gray;box-sizing: border-box;top: 0;bottom: 0;left: 50%;z-index: 0;}#sk-container-id-1 div.sk-serial {display: flex;flex-direction: column;align-items: center;background-color: white;padding-right: 0.2em;padding-left: 0.2em;position: relative;}#sk-container-id-1 div.sk-item {position: relative;z-index: 1;}#sk-container-id-1 div.sk-parallel {display: flex;align-items: stretch;justify-content: center;background-color: white;position: relative;}#sk-container-id-1 div.sk-item::before, #sk-container-id-1 div.sk-parallel-item::before {content: \"\";position: absolute;border-left: 1px solid gray;box-sizing: border-box;top: 0;bottom: 0;left: 50%;z-index: -1;}#sk-container-id-1 div.sk-parallel-item {display: flex;flex-direction: column;z-index: 1;position: relative;background-color: white;}#sk-container-id-1 div.sk-parallel-item:first-child::after {align-self: flex-end;width: 50%;}#sk-container-id-1 div.sk-parallel-item:last-child::after {align-self: flex-start;width: 50%;}#sk-container-id-1 div.sk-parallel-item:only-child::after {width: 0;}#sk-container-id-1 div.sk-dashed-wrapped {border: 1px dashed gray;margin: 0 0.4em 0.5em 0.4em;box-sizing: border-box;padding-bottom: 0.4em;background-color: white;}#sk-container-id-1 div.sk-label label {font-family: monospace;font-weight: bold;display: inline-block;line-height: 1.2em;}#sk-container-id-1 div.sk-label-container {text-align: center;}#sk-container-id-1 div.sk-container {/* jupyter's `normalize.less` sets `[hidden] { display: none; }` but bootstrap.min.css set `[hidden] { display: none !important; }` so we also need the `!important` here to be able to override the default hidden behavior on the sphinx rendered scikit-learn.org. See: https://github.com/scikit-learn/scikit-learn/issues/21755 */display: inline-block !important;position: relative;}#sk-container-id-1 div.sk-text-repr-fallback {display: none;}</style><div id=\"sk-container-id-1\" class=\"sk-top-container\"><div class=\"sk-text-repr-fallback\"><pre>LogisticRegression()</pre><b>In a Jupyter environment, please rerun this cell to show the HTML representation or trust the notebook. <br />On GitHub, the HTML representation is unable to render, please try loading this page with nbviewer.org.</b></div><div class=\"sk-container\" hidden><div class=\"sk-item\"><div class=\"sk-estimator sk-toggleable\"><input class=\"sk-toggleable__control sk-hidden--visually\" id=\"sk-estimator-id-1\" type=\"checkbox\" checked><label for=\"sk-estimator-id-1\" class=\"sk-toggleable__label sk-toggleable__label-arrow\">LogisticRegression</label><div class=\"sk-toggleable__content\"><pre>LogisticRegression()</pre></div></div></div></div></div>"
            ],
            "text/plain": [
              "LogisticRegression()"
            ]
          },
          "execution_count": 16,
          "metadata": {},
          "output_type": "execute_result"
        }
      ],
      "source": [
        "lr = LogisticRegression()\n",
        "\n",
        "lr.fit(X_train, y_train)"
      ]
    },
    {
      "cell_type": "code",
      "execution_count": null,
      "metadata": {
        "execution": {
          "iopub.execute_input": "2025-01-28T18:30:55.560409Z",
          "iopub.status.busy": "2025-01-28T18:30:55.560003Z",
          "iopub.status.idle": "2025-01-28T18:30:55.57146Z",
          "shell.execute_reply": "2025-01-28T18:30:55.5703Z",
          "shell.execute_reply.started": "2025-01-28T18:30:55.56038Z"
        },
        "id": "sI_iYRb-aQAi",
        "outputId": "3ab9e076-fb1e-4f84-f821-1a6f70324bb8",
        "trusted": true
      },
      "outputs": [
        {
          "data": {
            "text/plain": [
              "0.7452316076294278"
            ]
          },
          "execution_count": 17,
          "metadata": {},
          "output_type": "execute_result"
        }
      ],
      "source": [
        "lr.score(X_train, y_train)"
      ]
    },
    {
      "cell_type": "code",
      "execution_count": null,
      "metadata": {
        "execution": {
          "iopub.execute_input": "2025-01-28T18:30:56.092579Z",
          "iopub.status.busy": "2025-01-28T18:30:56.092257Z",
          "iopub.status.idle": "2025-01-28T18:30:56.099238Z",
          "shell.execute_reply": "2025-01-28T18:30:56.097959Z",
          "shell.execute_reply.started": "2025-01-28T18:30:56.092554Z"
        },
        "id": "cTUKwWlAaQAi",
        "trusted": true
      },
      "outputs": [],
      "source": [
        "y_pred = lr.predict(X_test)"
      ]
    },
    {
      "cell_type": "code",
      "execution_count": null,
      "metadata": {
        "execution": {
          "iopub.execute_input": "2025-01-28T18:30:57.194913Z",
          "iopub.status.busy": "2025-01-28T18:30:57.194525Z",
          "iopub.status.idle": "2025-01-28T18:30:57.202749Z",
          "shell.execute_reply": "2025-01-28T18:30:57.201551Z",
          "shell.execute_reply.started": "2025-01-28T18:30:57.194878Z"
        },
        "id": "t_N5BaPmaQAi",
        "outputId": "e3d903fd-dec8-46f1-a295-1c7f9b5b7deb",
        "trusted": true
      },
      "outputs": [
        {
          "name": "stdout",
          "output_type": "stream",
          "text": [
            "0.7119565217391305\n"
          ]
        }
      ],
      "source": [
        "print(accuracy_score(y_test, y_pred))"
      ]
    },
    {
      "cell_type": "code",
      "execution_count": null,
      "metadata": {
        "execution": {
          "iopub.execute_input": "2025-01-28T18:30:58.475122Z",
          "iopub.status.busy": "2025-01-28T18:30:58.474721Z",
          "iopub.status.idle": "2025-01-28T18:30:58.511242Z",
          "shell.execute_reply": "2025-01-28T18:30:58.509907Z",
          "shell.execute_reply.started": "2025-01-28T18:30:58.475088Z"
        },
        "id": "TnxNbarcaQAj",
        "outputId": "b7d6fef3-bffa-4a01-cf8e-4107a83621f7",
        "trusted": true
      },
      "outputs": [
        {
          "data": {
            "text/html": [
              "<style>#sk-container-id-2 {color: black;background-color: white;}#sk-container-id-2 pre{padding: 0;}#sk-container-id-2 div.sk-toggleable {background-color: white;}#sk-container-id-2 label.sk-toggleable__label {cursor: pointer;display: block;width: 100%;margin-bottom: 0;padding: 0.3em;box-sizing: border-box;text-align: center;}#sk-container-id-2 label.sk-toggleable__label-arrow:before {content: \"▸\";float: left;margin-right: 0.25em;color: #696969;}#sk-container-id-2 label.sk-toggleable__label-arrow:hover:before {color: black;}#sk-container-id-2 div.sk-estimator:hover label.sk-toggleable__label-arrow:before {color: black;}#sk-container-id-2 div.sk-toggleable__content {max-height: 0;max-width: 0;overflow: hidden;text-align: left;background-color: #f0f8ff;}#sk-container-id-2 div.sk-toggleable__content pre {margin: 0.2em;color: black;border-radius: 0.25em;background-color: #f0f8ff;}#sk-container-id-2 input.sk-toggleable__control:checked~div.sk-toggleable__content {max-height: 200px;max-width: 100%;overflow: auto;}#sk-container-id-2 input.sk-toggleable__control:checked~label.sk-toggleable__label-arrow:before {content: \"▾\";}#sk-container-id-2 div.sk-estimator input.sk-toggleable__control:checked~label.sk-toggleable__label {background-color: #d4ebff;}#sk-container-id-2 div.sk-label input.sk-toggleable__control:checked~label.sk-toggleable__label {background-color: #d4ebff;}#sk-container-id-2 input.sk-hidden--visually {border: 0;clip: rect(1px 1px 1px 1px);clip: rect(1px, 1px, 1px, 1px);height: 1px;margin: -1px;overflow: hidden;padding: 0;position: absolute;width: 1px;}#sk-container-id-2 div.sk-estimator {font-family: monospace;background-color: #f0f8ff;border: 1px dotted black;border-radius: 0.25em;box-sizing: border-box;margin-bottom: 0.5em;}#sk-container-id-2 div.sk-estimator:hover {background-color: #d4ebff;}#sk-container-id-2 div.sk-parallel-item::after {content: \"\";width: 100%;border-bottom: 1px solid gray;flex-grow: 1;}#sk-container-id-2 div.sk-label:hover label.sk-toggleable__label {background-color: #d4ebff;}#sk-container-id-2 div.sk-serial::before {content: \"\";position: absolute;border-left: 1px solid gray;box-sizing: border-box;top: 0;bottom: 0;left: 50%;z-index: 0;}#sk-container-id-2 div.sk-serial {display: flex;flex-direction: column;align-items: center;background-color: white;padding-right: 0.2em;padding-left: 0.2em;position: relative;}#sk-container-id-2 div.sk-item {position: relative;z-index: 1;}#sk-container-id-2 div.sk-parallel {display: flex;align-items: stretch;justify-content: center;background-color: white;position: relative;}#sk-container-id-2 div.sk-item::before, #sk-container-id-2 div.sk-parallel-item::before {content: \"\";position: absolute;border-left: 1px solid gray;box-sizing: border-box;top: 0;bottom: 0;left: 50%;z-index: -1;}#sk-container-id-2 div.sk-parallel-item {display: flex;flex-direction: column;z-index: 1;position: relative;background-color: white;}#sk-container-id-2 div.sk-parallel-item:first-child::after {align-self: flex-end;width: 50%;}#sk-container-id-2 div.sk-parallel-item:last-child::after {align-self: flex-start;width: 50%;}#sk-container-id-2 div.sk-parallel-item:only-child::after {width: 0;}#sk-container-id-2 div.sk-dashed-wrapped {border: 1px dashed gray;margin: 0 0.4em 0.5em 0.4em;box-sizing: border-box;padding-bottom: 0.4em;background-color: white;}#sk-container-id-2 div.sk-label label {font-family: monospace;font-weight: bold;display: inline-block;line-height: 1.2em;}#sk-container-id-2 div.sk-label-container {text-align: center;}#sk-container-id-2 div.sk-container {/* jupyter's `normalize.less` sets `[hidden] { display: none; }` but bootstrap.min.css set `[hidden] { display: none !important; }` so we also need the `!important` here to be able to override the default hidden behavior on the sphinx rendered scikit-learn.org. See: https://github.com/scikit-learn/scikit-learn/issues/21755 */display: inline-block !important;position: relative;}#sk-container-id-2 div.sk-text-repr-fallback {display: none;}</style><div id=\"sk-container-id-2\" class=\"sk-top-container\"><div class=\"sk-text-repr-fallback\"><pre>SVC(C=10)</pre><b>In a Jupyter environment, please rerun this cell to show the HTML representation or trust the notebook. <br />On GitHub, the HTML representation is unable to render, please try loading this page with nbviewer.org.</b></div><div class=\"sk-container\" hidden><div class=\"sk-item\"><div class=\"sk-estimator sk-toggleable\"><input class=\"sk-toggleable__control sk-hidden--visually\" id=\"sk-estimator-id-2\" type=\"checkbox\" checked><label for=\"sk-estimator-id-2\" class=\"sk-toggleable__label sk-toggleable__label-arrow\">SVC</label><div class=\"sk-toggleable__content\"><pre>SVC(C=10)</pre></div></div></div></div></div>"
            ],
            "text/plain": [
              "SVC(C=10)"
            ]
          },
          "execution_count": 20,
          "metadata": {},
          "output_type": "execute_result"
        }
      ],
      "source": [
        "svm = SVC(C=10)\n",
        "\n",
        "svm.fit(X_train, y_train)"
      ]
    },
    {
      "cell_type": "code",
      "execution_count": null,
      "metadata": {
        "execution": {
          "iopub.execute_input": "2025-01-28T18:31:00.686841Z",
          "iopub.status.busy": "2025-01-28T18:31:00.686457Z",
          "iopub.status.idle": "2025-01-28T18:31:00.719379Z",
          "shell.execute_reply": "2025-01-28T18:31:00.718192Z",
          "shell.execute_reply.started": "2025-01-28T18:31:00.686807Z"
        },
        "id": "ODRNI2CoaQAj",
        "outputId": "19931fe7-a9d9-45b6-bf79-ba741d61f296",
        "trusted": true
      },
      "outputs": [
        {
          "data": {
            "text/plain": [
              "0.7343324250681199"
            ]
          },
          "execution_count": 21,
          "metadata": {},
          "output_type": "execute_result"
        }
      ],
      "source": [
        "svm.score(X_train, y_train)"
      ]
    },
    {
      "cell_type": "code",
      "execution_count": null,
      "metadata": {
        "execution": {
          "iopub.execute_input": "2025-01-28T18:31:01.071605Z",
          "iopub.status.busy": "2025-01-28T18:31:01.07128Z",
          "iopub.status.idle": "2025-01-28T18:31:01.084524Z",
          "shell.execute_reply": "2025-01-28T18:31:01.083086Z",
          "shell.execute_reply.started": "2025-01-28T18:31:01.071576Z"
        },
        "id": "bpMiKpEeaQAj",
        "trusted": true
      },
      "outputs": [],
      "source": [
        "y_pred = svm.predict(X_test)"
      ]
    },
    {
      "cell_type": "code",
      "execution_count": null,
      "metadata": {
        "execution": {
          "iopub.execute_input": "2025-01-28T18:31:03.695697Z",
          "iopub.status.busy": "2025-01-28T18:31:03.695313Z",
          "iopub.status.idle": "2025-01-28T18:31:03.70408Z",
          "shell.execute_reply": "2025-01-28T18:31:03.702695Z",
          "shell.execute_reply.started": "2025-01-28T18:31:03.69566Z"
        },
        "id": "zyznjTuyaQAj",
        "outputId": "4e9e2b73-c37c-42c7-89b9-67256b8719e4",
        "trusted": true
      },
      "outputs": [
        {
          "name": "stdout",
          "output_type": "stream",
          "text": [
            "0.6847826086956522\n"
          ]
        }
      ],
      "source": [
        "print(accuracy_score(y_test, y_pred))"
      ]
    },
    {
      "cell_type": "code",
      "execution_count": null,
      "metadata": {
        "execution": {
          "iopub.execute_input": "2025-01-28T18:31:04.029384Z",
          "iopub.status.busy": "2025-01-28T18:31:04.029056Z",
          "iopub.status.idle": "2025-01-28T18:31:04.066317Z",
          "shell.execute_reply": "2025-01-28T18:31:04.065058Z",
          "shell.execute_reply.started": "2025-01-28T18:31:04.02936Z"
        },
        "id": "aOBWjuXAaQAj",
        "outputId": "38037ac8-1125-4c5f-f76a-793c4d71d214",
        "trusted": true
      },
      "outputs": [
        {
          "data": {
            "text/html": [
              "<style>#sk-container-id-3 {color: black;background-color: white;}#sk-container-id-3 pre{padding: 0;}#sk-container-id-3 div.sk-toggleable {background-color: white;}#sk-container-id-3 label.sk-toggleable__label {cursor: pointer;display: block;width: 100%;margin-bottom: 0;padding: 0.3em;box-sizing: border-box;text-align: center;}#sk-container-id-3 label.sk-toggleable__label-arrow:before {content: \"▸\";float: left;margin-right: 0.25em;color: #696969;}#sk-container-id-3 label.sk-toggleable__label-arrow:hover:before {color: black;}#sk-container-id-3 div.sk-estimator:hover label.sk-toggleable__label-arrow:before {color: black;}#sk-container-id-3 div.sk-toggleable__content {max-height: 0;max-width: 0;overflow: hidden;text-align: left;background-color: #f0f8ff;}#sk-container-id-3 div.sk-toggleable__content pre {margin: 0.2em;color: black;border-radius: 0.25em;background-color: #f0f8ff;}#sk-container-id-3 input.sk-toggleable__control:checked~div.sk-toggleable__content {max-height: 200px;max-width: 100%;overflow: auto;}#sk-container-id-3 input.sk-toggleable__control:checked~label.sk-toggleable__label-arrow:before {content: \"▾\";}#sk-container-id-3 div.sk-estimator input.sk-toggleable__control:checked~label.sk-toggleable__label {background-color: #d4ebff;}#sk-container-id-3 div.sk-label input.sk-toggleable__control:checked~label.sk-toggleable__label {background-color: #d4ebff;}#sk-container-id-3 input.sk-hidden--visually {border: 0;clip: rect(1px 1px 1px 1px);clip: rect(1px, 1px, 1px, 1px);height: 1px;margin: -1px;overflow: hidden;padding: 0;position: absolute;width: 1px;}#sk-container-id-3 div.sk-estimator {font-family: monospace;background-color: #f0f8ff;border: 1px dotted black;border-radius: 0.25em;box-sizing: border-box;margin-bottom: 0.5em;}#sk-container-id-3 div.sk-estimator:hover {background-color: #d4ebff;}#sk-container-id-3 div.sk-parallel-item::after {content: \"\";width: 100%;border-bottom: 1px solid gray;flex-grow: 1;}#sk-container-id-3 div.sk-label:hover label.sk-toggleable__label {background-color: #d4ebff;}#sk-container-id-3 div.sk-serial::before {content: \"\";position: absolute;border-left: 1px solid gray;box-sizing: border-box;top: 0;bottom: 0;left: 50%;z-index: 0;}#sk-container-id-3 div.sk-serial {display: flex;flex-direction: column;align-items: center;background-color: white;padding-right: 0.2em;padding-left: 0.2em;position: relative;}#sk-container-id-3 div.sk-item {position: relative;z-index: 1;}#sk-container-id-3 div.sk-parallel {display: flex;align-items: stretch;justify-content: center;background-color: white;position: relative;}#sk-container-id-3 div.sk-item::before, #sk-container-id-3 div.sk-parallel-item::before {content: \"\";position: absolute;border-left: 1px solid gray;box-sizing: border-box;top: 0;bottom: 0;left: 50%;z-index: -1;}#sk-container-id-3 div.sk-parallel-item {display: flex;flex-direction: column;z-index: 1;position: relative;background-color: white;}#sk-container-id-3 div.sk-parallel-item:first-child::after {align-self: flex-end;width: 50%;}#sk-container-id-3 div.sk-parallel-item:last-child::after {align-self: flex-start;width: 50%;}#sk-container-id-3 div.sk-parallel-item:only-child::after {width: 0;}#sk-container-id-3 div.sk-dashed-wrapped {border: 1px dashed gray;margin: 0 0.4em 0.5em 0.4em;box-sizing: border-box;padding-bottom: 0.4em;background-color: white;}#sk-container-id-3 div.sk-label label {font-family: monospace;font-weight: bold;display: inline-block;line-height: 1.2em;}#sk-container-id-3 div.sk-label-container {text-align: center;}#sk-container-id-3 div.sk-container {/* jupyter's `normalize.less` sets `[hidden] { display: none; }` but bootstrap.min.css set `[hidden] { display: none !important; }` so we also need the `!important` here to be able to override the default hidden behavior on the sphinx rendered scikit-learn.org. See: https://github.com/scikit-learn/scikit-learn/issues/21755 */display: inline-block !important;position: relative;}#sk-container-id-3 div.sk-text-repr-fallback {display: none;}</style><div id=\"sk-container-id-3\" class=\"sk-top-container\"><div class=\"sk-text-repr-fallback\"><pre>RandomForestClassifier(max_depth=6, n_estimators=10)</pre><b>In a Jupyter environment, please rerun this cell to show the HTML representation or trust the notebook. <br />On GitHub, the HTML representation is unable to render, please try loading this page with nbviewer.org.</b></div><div class=\"sk-container\" hidden><div class=\"sk-item\"><div class=\"sk-estimator sk-toggleable\"><input class=\"sk-toggleable__control sk-hidden--visually\" id=\"sk-estimator-id-3\" type=\"checkbox\" checked><label for=\"sk-estimator-id-3\" class=\"sk-toggleable__label sk-toggleable__label-arrow\">RandomForestClassifier</label><div class=\"sk-toggleable__content\"><pre>RandomForestClassifier(max_depth=6, n_estimators=10)</pre></div></div></div></div></div>"
            ],
            "text/plain": [
              "RandomForestClassifier(max_depth=6, n_estimators=10)"
            ]
          },
          "execution_count": 24,
          "metadata": {},
          "output_type": "execute_result"
        }
      ],
      "source": [
        "rf = RandomForestClassifier(n_estimators=10, max_depth=6)\n",
        "\n",
        "rf.fit(X_train, y_train)"
      ]
    },
    {
      "cell_type": "code",
      "execution_count": null,
      "metadata": {
        "execution": {
          "iopub.execute_input": "2025-01-28T18:31:05.270779Z",
          "iopub.status.busy": "2025-01-28T18:31:05.270406Z",
          "iopub.status.idle": "2025-01-28T18:31:05.283778Z",
          "shell.execute_reply": "2025-01-28T18:31:05.282595Z",
          "shell.execute_reply.started": "2025-01-28T18:31:05.270752Z"
        },
        "id": "OezFAn5YaQAk",
        "outputId": "f54e3817-dd7b-43a4-d7ba-38c25486f54a",
        "trusted": true
      },
      "outputs": [
        {
          "data": {
            "text/plain": [
              "0.8283378746594006"
            ]
          },
          "execution_count": 25,
          "metadata": {},
          "output_type": "execute_result"
        }
      ],
      "source": [
        "rf.score(X_train, y_train)"
      ]
    },
    {
      "cell_type": "markdown",
      "metadata": {
        "id": "vE8Z9UCdaQAk"
      },
      "source": []
    },
    {
      "cell_type": "code",
      "execution_count": null,
      "metadata": {
        "execution": {
          "iopub.execute_input": "2025-01-28T18:31:09.615499Z",
          "iopub.status.busy": "2025-01-28T18:31:09.615136Z",
          "iopub.status.idle": "2025-01-28T18:31:09.624687Z",
          "shell.execute_reply": "2025-01-28T18:31:09.623624Z",
          "shell.execute_reply.started": "2025-01-28T18:31:09.61547Z"
        },
        "id": "pJneddusaQAk",
        "trusted": true
      },
      "outputs": [],
      "source": [
        "y_pred = rf.predict(X_test)"
      ]
    },
    {
      "cell_type": "code",
      "execution_count": null,
      "metadata": {
        "execution": {
          "iopub.execute_input": "2025-01-28T18:31:09.886986Z",
          "iopub.status.busy": "2025-01-28T18:31:09.88649Z",
          "iopub.status.idle": "2025-01-28T18:31:09.893915Z",
          "shell.execute_reply": "2025-01-28T18:31:09.89266Z",
          "shell.execute_reply.started": "2025-01-28T18:31:09.886914Z"
        },
        "id": "mBrvyy0KaQAk",
        "outputId": "d2301598-0b2f-41f6-a0db-04af967906cb",
        "trusted": true
      },
      "outputs": [
        {
          "name": "stdout",
          "output_type": "stream",
          "text": [
            "0.7119565217391305\n"
          ]
        }
      ],
      "source": [
        "print(accuracy_score(y_test, y_pred))"
      ]
    },
    {
      "cell_type": "code",
      "execution_count": null,
      "metadata": {
        "execution": {
          "iopub.execute_input": "2025-01-28T18:31:12.445178Z",
          "iopub.status.busy": "2025-01-28T18:31:12.444748Z",
          "iopub.status.idle": "2025-01-28T18:31:12.484132Z",
          "shell.execute_reply": "2025-01-28T18:31:12.483037Z",
          "shell.execute_reply.started": "2025-01-28T18:31:12.445146Z"
        },
        "id": "KQukBH8DaQAk",
        "outputId": "b8a570d6-4b2b-457b-a49b-404ae796bd1a",
        "trusted": true
      },
      "outputs": [
        {
          "data": {
            "text/html": [
              "<style>#sk-container-id-4 {color: black;background-color: white;}#sk-container-id-4 pre{padding: 0;}#sk-container-id-4 div.sk-toggleable {background-color: white;}#sk-container-id-4 label.sk-toggleable__label {cursor: pointer;display: block;width: 100%;margin-bottom: 0;padding: 0.3em;box-sizing: border-box;text-align: center;}#sk-container-id-4 label.sk-toggleable__label-arrow:before {content: \"▸\";float: left;margin-right: 0.25em;color: #696969;}#sk-container-id-4 label.sk-toggleable__label-arrow:hover:before {color: black;}#sk-container-id-4 div.sk-estimator:hover label.sk-toggleable__label-arrow:before {color: black;}#sk-container-id-4 div.sk-toggleable__content {max-height: 0;max-width: 0;overflow: hidden;text-align: left;background-color: #f0f8ff;}#sk-container-id-4 div.sk-toggleable__content pre {margin: 0.2em;color: black;border-radius: 0.25em;background-color: #f0f8ff;}#sk-container-id-4 input.sk-toggleable__control:checked~div.sk-toggleable__content {max-height: 200px;max-width: 100%;overflow: auto;}#sk-container-id-4 input.sk-toggleable__control:checked~label.sk-toggleable__label-arrow:before {content: \"▾\";}#sk-container-id-4 div.sk-estimator input.sk-toggleable__control:checked~label.sk-toggleable__label {background-color: #d4ebff;}#sk-container-id-4 div.sk-label input.sk-toggleable__control:checked~label.sk-toggleable__label {background-color: #d4ebff;}#sk-container-id-4 input.sk-hidden--visually {border: 0;clip: rect(1px 1px 1px 1px);clip: rect(1px, 1px, 1px, 1px);height: 1px;margin: -1px;overflow: hidden;padding: 0;position: absolute;width: 1px;}#sk-container-id-4 div.sk-estimator {font-family: monospace;background-color: #f0f8ff;border: 1px dotted black;border-radius: 0.25em;box-sizing: border-box;margin-bottom: 0.5em;}#sk-container-id-4 div.sk-estimator:hover {background-color: #d4ebff;}#sk-container-id-4 div.sk-parallel-item::after {content: \"\";width: 100%;border-bottom: 1px solid gray;flex-grow: 1;}#sk-container-id-4 div.sk-label:hover label.sk-toggleable__label {background-color: #d4ebff;}#sk-container-id-4 div.sk-serial::before {content: \"\";position: absolute;border-left: 1px solid gray;box-sizing: border-box;top: 0;bottom: 0;left: 50%;z-index: 0;}#sk-container-id-4 div.sk-serial {display: flex;flex-direction: column;align-items: center;background-color: white;padding-right: 0.2em;padding-left: 0.2em;position: relative;}#sk-container-id-4 div.sk-item {position: relative;z-index: 1;}#sk-container-id-4 div.sk-parallel {display: flex;align-items: stretch;justify-content: center;background-color: white;position: relative;}#sk-container-id-4 div.sk-item::before, #sk-container-id-4 div.sk-parallel-item::before {content: \"\";position: absolute;border-left: 1px solid gray;box-sizing: border-box;top: 0;bottom: 0;left: 50%;z-index: -1;}#sk-container-id-4 div.sk-parallel-item {display: flex;flex-direction: column;z-index: 1;position: relative;background-color: white;}#sk-container-id-4 div.sk-parallel-item:first-child::after {align-self: flex-end;width: 50%;}#sk-container-id-4 div.sk-parallel-item:last-child::after {align-self: flex-start;width: 50%;}#sk-container-id-4 div.sk-parallel-item:only-child::after {width: 0;}#sk-container-id-4 div.sk-dashed-wrapped {border: 1px dashed gray;margin: 0 0.4em 0.5em 0.4em;box-sizing: border-box;padding-bottom: 0.4em;background-color: white;}#sk-container-id-4 div.sk-label label {font-family: monospace;font-weight: bold;display: inline-block;line-height: 1.2em;}#sk-container-id-4 div.sk-label-container {text-align: center;}#sk-container-id-4 div.sk-container {/* jupyter's `normalize.less` sets `[hidden] { display: none; }` but bootstrap.min.css set `[hidden] { display: none !important; }` so we also need the `!important` here to be able to override the default hidden behavior on the sphinx rendered scikit-learn.org. See: https://github.com/scikit-learn/scikit-learn/issues/21755 */display: inline-block !important;position: relative;}#sk-container-id-4 div.sk-text-repr-fallback {display: none;}</style><div id=\"sk-container-id-4\" class=\"sk-top-container\"><div class=\"sk-text-repr-fallback\"><pre>BaggingClassifier(estimator=DecisionTreeClassifier(max_depth=6,\n",
              "                                                   min_samples_split=0.2))</pre><b>In a Jupyter environment, please rerun this cell to show the HTML representation or trust the notebook. <br />On GitHub, the HTML representation is unable to render, please try loading this page with nbviewer.org.</b></div><div class=\"sk-container\" hidden><div class=\"sk-item sk-dashed-wrapped\"><div class=\"sk-label-container\"><div class=\"sk-label sk-toggleable\"><input class=\"sk-toggleable__control sk-hidden--visually\" id=\"sk-estimator-id-4\" type=\"checkbox\" ><label for=\"sk-estimator-id-4\" class=\"sk-toggleable__label sk-toggleable__label-arrow\">BaggingClassifier</label><div class=\"sk-toggleable__content\"><pre>BaggingClassifier(estimator=DecisionTreeClassifier(max_depth=6,\n",
              "                                                   min_samples_split=0.2))</pre></div></div></div><div class=\"sk-parallel\"><div class=\"sk-parallel-item\"><div class=\"sk-item\"><div class=\"sk-label-container\"><div class=\"sk-label sk-toggleable\"><input class=\"sk-toggleable__control sk-hidden--visually\" id=\"sk-estimator-id-5\" type=\"checkbox\" ><label for=\"sk-estimator-id-5\" class=\"sk-toggleable__label sk-toggleable__label-arrow\">estimator: DecisionTreeClassifier</label><div class=\"sk-toggleable__content\"><pre>DecisionTreeClassifier(max_depth=6, min_samples_split=0.2)</pre></div></div></div><div class=\"sk-serial\"><div class=\"sk-item\"><div class=\"sk-estimator sk-toggleable\"><input class=\"sk-toggleable__control sk-hidden--visually\" id=\"sk-estimator-id-6\" type=\"checkbox\" ><label for=\"sk-estimator-id-6\" class=\"sk-toggleable__label sk-toggleable__label-arrow\">DecisionTreeClassifier</label><div class=\"sk-toggleable__content\"><pre>DecisionTreeClassifier(max_depth=6, min_samples_split=0.2)</pre></div></div></div></div></div></div></div></div></div></div>"
            ],
            "text/plain": [
              "BaggingClassifier(estimator=DecisionTreeClassifier(max_depth=6,\n",
              "                                                   min_samples_split=0.2))"
            ]
          },
          "execution_count": 28,
          "metadata": {},
          "output_type": "execute_result"
        }
      ],
      "source": [
        "estimator = DecisionTreeClassifier(max_depth=6, min_samples_split=0.2)\n",
        "\n",
        "bagg = BaggingClassifier(estimator=estimator, n_estimators=10)\n",
        "\n",
        "bagg.fit(X_train, y_train)"
      ]
    },
    {
      "cell_type": "code",
      "execution_count": null,
      "metadata": {
        "execution": {
          "iopub.execute_input": "2025-01-28T18:31:12.706148Z",
          "iopub.status.busy": "2025-01-28T18:31:12.705714Z",
          "iopub.status.idle": "2025-01-28T18:31:12.719302Z",
          "shell.execute_reply": "2025-01-28T18:31:12.718059Z",
          "shell.execute_reply.started": "2025-01-28T18:31:12.706113Z"
        },
        "id": "Fp4R76LjaQAk",
        "outputId": "933405b4-87f1-4873-97c6-c25c1c8d7500",
        "trusted": true
      },
      "outputs": [
        {
          "data": {
            "text/plain": [
              "0.7643051771117166"
            ]
          },
          "execution_count": 29,
          "metadata": {},
          "output_type": "execute_result"
        }
      ],
      "source": [
        "bagg.score(X_train, y_train)"
      ]
    },
    {
      "cell_type": "code",
      "execution_count": null,
      "metadata": {
        "execution": {
          "iopub.execute_input": "2025-01-28T18:31:12.978788Z",
          "iopub.status.busy": "2025-01-28T18:31:12.978454Z",
          "iopub.status.idle": "2025-01-28T18:31:12.988495Z",
          "shell.execute_reply": "2025-01-28T18:31:12.987452Z",
          "shell.execute_reply.started": "2025-01-28T18:31:12.978763Z"
        },
        "id": "-uriaqeXaQAl",
        "trusted": true
      },
      "outputs": [],
      "source": [
        "y_pred = bagg.predict(X_test)"
      ]
    },
    {
      "cell_type": "code",
      "execution_count": null,
      "metadata": {
        "execution": {
          "iopub.execute_input": "2025-01-28T18:31:15.678811Z",
          "iopub.status.busy": "2025-01-28T18:31:15.678472Z",
          "iopub.status.idle": "2025-01-28T18:31:15.686608Z",
          "shell.execute_reply": "2025-01-28T18:31:15.685242Z",
          "shell.execute_reply.started": "2025-01-28T18:31:15.678785Z"
        },
        "id": "cJvbl28RaQAl",
        "outputId": "55914f9e-a16d-46ae-b3f0-ae370091ea02",
        "trusted": true
      },
      "outputs": [
        {
          "name": "stdout",
          "output_type": "stream",
          "text": [
            "0.7445652173913043\n"
          ]
        }
      ],
      "source": [
        "print(accuracy_score(y_test, y_pred))"
      ]
    },
    {
      "cell_type": "code",
      "execution_count": null,
      "metadata": {
        "execution": {
          "iopub.execute_input": "2025-01-28T18:31:15.901031Z",
          "iopub.status.busy": "2025-01-28T18:31:15.900638Z",
          "iopub.status.idle": "2025-01-28T18:31:15.925269Z",
          "shell.execute_reply": "2025-01-28T18:31:15.924334Z",
          "shell.execute_reply.started": "2025-01-28T18:31:15.901004Z"
        },
        "id": "hYhXKGyZaQAl",
        "outputId": "7d07770e-06cd-442a-c214-f810ea6d21a2",
        "trusted": true
      },
      "outputs": [
        {
          "data": {
            "text/html": [
              "<style>#sk-container-id-5 {color: black;background-color: white;}#sk-container-id-5 pre{padding: 0;}#sk-container-id-5 div.sk-toggleable {background-color: white;}#sk-container-id-5 label.sk-toggleable__label {cursor: pointer;display: block;width: 100%;margin-bottom: 0;padding: 0.3em;box-sizing: border-box;text-align: center;}#sk-container-id-5 label.sk-toggleable__label-arrow:before {content: \"▸\";float: left;margin-right: 0.25em;color: #696969;}#sk-container-id-5 label.sk-toggleable__label-arrow:hover:before {color: black;}#sk-container-id-5 div.sk-estimator:hover label.sk-toggleable__label-arrow:before {color: black;}#sk-container-id-5 div.sk-toggleable__content {max-height: 0;max-width: 0;overflow: hidden;text-align: left;background-color: #f0f8ff;}#sk-container-id-5 div.sk-toggleable__content pre {margin: 0.2em;color: black;border-radius: 0.25em;background-color: #f0f8ff;}#sk-container-id-5 input.sk-toggleable__control:checked~div.sk-toggleable__content {max-height: 200px;max-width: 100%;overflow: auto;}#sk-container-id-5 input.sk-toggleable__control:checked~label.sk-toggleable__label-arrow:before {content: \"▾\";}#sk-container-id-5 div.sk-estimator input.sk-toggleable__control:checked~label.sk-toggleable__label {background-color: #d4ebff;}#sk-container-id-5 div.sk-label input.sk-toggleable__control:checked~label.sk-toggleable__label {background-color: #d4ebff;}#sk-container-id-5 input.sk-hidden--visually {border: 0;clip: rect(1px 1px 1px 1px);clip: rect(1px, 1px, 1px, 1px);height: 1px;margin: -1px;overflow: hidden;padding: 0;position: absolute;width: 1px;}#sk-container-id-5 div.sk-estimator {font-family: monospace;background-color: #f0f8ff;border: 1px dotted black;border-radius: 0.25em;box-sizing: border-box;margin-bottom: 0.5em;}#sk-container-id-5 div.sk-estimator:hover {background-color: #d4ebff;}#sk-container-id-5 div.sk-parallel-item::after {content: \"\";width: 100%;border-bottom: 1px solid gray;flex-grow: 1;}#sk-container-id-5 div.sk-label:hover label.sk-toggleable__label {background-color: #d4ebff;}#sk-container-id-5 div.sk-serial::before {content: \"\";position: absolute;border-left: 1px solid gray;box-sizing: border-box;top: 0;bottom: 0;left: 50%;z-index: 0;}#sk-container-id-5 div.sk-serial {display: flex;flex-direction: column;align-items: center;background-color: white;padding-right: 0.2em;padding-left: 0.2em;position: relative;}#sk-container-id-5 div.sk-item {position: relative;z-index: 1;}#sk-container-id-5 div.sk-parallel {display: flex;align-items: stretch;justify-content: center;background-color: white;position: relative;}#sk-container-id-5 div.sk-item::before, #sk-container-id-5 div.sk-parallel-item::before {content: \"\";position: absolute;border-left: 1px solid gray;box-sizing: border-box;top: 0;bottom: 0;left: 50%;z-index: -1;}#sk-container-id-5 div.sk-parallel-item {display: flex;flex-direction: column;z-index: 1;position: relative;background-color: white;}#sk-container-id-5 div.sk-parallel-item:first-child::after {align-self: flex-end;width: 50%;}#sk-container-id-5 div.sk-parallel-item:last-child::after {align-self: flex-start;width: 50%;}#sk-container-id-5 div.sk-parallel-item:only-child::after {width: 0;}#sk-container-id-5 div.sk-dashed-wrapped {border: 1px dashed gray;margin: 0 0.4em 0.5em 0.4em;box-sizing: border-box;padding-bottom: 0.4em;background-color: white;}#sk-container-id-5 div.sk-label label {font-family: monospace;font-weight: bold;display: inline-block;line-height: 1.2em;}#sk-container-id-5 div.sk-label-container {text-align: center;}#sk-container-id-5 div.sk-container {/* jupyter's `normalize.less` sets `[hidden] { display: none; }` but bootstrap.min.css set `[hidden] { display: none !important; }` so we also need the `!important` here to be able to override the default hidden behavior on the sphinx rendered scikit-learn.org. See: https://github.com/scikit-learn/scikit-learn/issues/21755 */display: inline-block !important;position: relative;}#sk-container-id-5 div.sk-text-repr-fallback {display: none;}</style><div id=\"sk-container-id-5\" class=\"sk-top-container\"><div class=\"sk-text-repr-fallback\"><pre>ExtraTreesClassifier(max_depth=6, n_estimators=10)</pre><b>In a Jupyter environment, please rerun this cell to show the HTML representation or trust the notebook. <br />On GitHub, the HTML representation is unable to render, please try loading this page with nbviewer.org.</b></div><div class=\"sk-container\" hidden><div class=\"sk-item\"><div class=\"sk-estimator sk-toggleable\"><input class=\"sk-toggleable__control sk-hidden--visually\" id=\"sk-estimator-id-7\" type=\"checkbox\" checked><label for=\"sk-estimator-id-7\" class=\"sk-toggleable__label sk-toggleable__label-arrow\">ExtraTreesClassifier</label><div class=\"sk-toggleable__content\"><pre>ExtraTreesClassifier(max_depth=6, n_estimators=10)</pre></div></div></div></div></div>"
            ],
            "text/plain": [
              "ExtraTreesClassifier(max_depth=6, n_estimators=10)"
            ]
          },
          "execution_count": 32,
          "metadata": {},
          "output_type": "execute_result"
        }
      ],
      "source": [
        "trees = ExtraTreesClassifier(n_estimators=10, max_depth=6)\n",
        "\n",
        "trees.fit(X_train, y_train)"
      ]
    },
    {
      "cell_type": "code",
      "execution_count": null,
      "metadata": {
        "execution": {
          "iopub.execute_input": "2025-01-28T18:31:16.142669Z",
          "iopub.status.busy": "2025-01-28T18:31:16.142196Z",
          "iopub.status.idle": "2025-01-28T18:31:16.154329Z",
          "shell.execute_reply": "2025-01-28T18:31:16.153189Z",
          "shell.execute_reply.started": "2025-01-28T18:31:16.142628Z"
        },
        "id": "6u-t0PkYaQAl",
        "outputId": "240df511-29f0-4577-9429-2debe3d84c83",
        "trusted": true
      },
      "outputs": [
        {
          "data": {
            "text/plain": [
              "0.7779291553133515"
            ]
          },
          "execution_count": 33,
          "metadata": {},
          "output_type": "execute_result"
        }
      ],
      "source": [
        "trees.score(X_train, y_train)"
      ]
    },
    {
      "cell_type": "code",
      "execution_count": null,
      "metadata": {
        "execution": {
          "iopub.execute_input": "2025-01-28T18:31:16.367872Z",
          "iopub.status.busy": "2025-01-28T18:31:16.367505Z",
          "iopub.status.idle": "2025-01-28T18:31:16.377224Z",
          "shell.execute_reply": "2025-01-28T18:31:16.376076Z",
          "shell.execute_reply.started": "2025-01-28T18:31:16.367845Z"
        },
        "id": "GbJc6MxtaQAm",
        "trusted": true
      },
      "outputs": [],
      "source": [
        "y_pred = trees.predict(X_test)"
      ]
    },
    {
      "cell_type": "code",
      "execution_count": null,
      "metadata": {
        "execution": {
          "iopub.execute_input": "2025-01-28T18:31:16.5319Z",
          "iopub.status.busy": "2025-01-28T18:31:16.531554Z",
          "iopub.status.idle": "2025-01-28T18:31:16.538479Z",
          "shell.execute_reply": "2025-01-28T18:31:16.53735Z",
          "shell.execute_reply.started": "2025-01-28T18:31:16.531872Z"
        },
        "id": "sDBNMGhTaQAm",
        "outputId": "c4ac2ce1-7177-4700-b69f-05a80939be10",
        "trusted": true
      },
      "outputs": [
        {
          "name": "stdout",
          "output_type": "stream",
          "text": [
            "0.7336956521739131\n"
          ]
        }
      ],
      "source": [
        "print(accuracy_score(y_test, y_pred))"
      ]
    },
    {
      "cell_type": "code",
      "execution_count": null,
      "metadata": {
        "execution": {
          "iopub.execute_input": "2025-01-28T18:31:19.933527Z",
          "iopub.status.busy": "2025-01-28T18:31:19.933154Z",
          "iopub.status.idle": "2025-01-28T18:31:20.022823Z",
          "shell.execute_reply": "2025-01-28T18:31:20.020018Z",
          "shell.execute_reply.started": "2025-01-28T18:31:19.933498Z"
        },
        "id": "pbz5Z767aQAm",
        "outputId": "a1e0c4b6-e147-40d4-c882-205c8fd1b36c",
        "trusted": true
      },
      "outputs": [
        {
          "data": {
            "text/html": [
              "<style>#sk-container-id-6 {color: black;background-color: white;}#sk-container-id-6 pre{padding: 0;}#sk-container-id-6 div.sk-toggleable {background-color: white;}#sk-container-id-6 label.sk-toggleable__label {cursor: pointer;display: block;width: 100%;margin-bottom: 0;padding: 0.3em;box-sizing: border-box;text-align: center;}#sk-container-id-6 label.sk-toggleable__label-arrow:before {content: \"▸\";float: left;margin-right: 0.25em;color: #696969;}#sk-container-id-6 label.sk-toggleable__label-arrow:hover:before {color: black;}#sk-container-id-6 div.sk-estimator:hover label.sk-toggleable__label-arrow:before {color: black;}#sk-container-id-6 div.sk-toggleable__content {max-height: 0;max-width: 0;overflow: hidden;text-align: left;background-color: #f0f8ff;}#sk-container-id-6 div.sk-toggleable__content pre {margin: 0.2em;color: black;border-radius: 0.25em;background-color: #f0f8ff;}#sk-container-id-6 input.sk-toggleable__control:checked~div.sk-toggleable__content {max-height: 200px;max-width: 100%;overflow: auto;}#sk-container-id-6 input.sk-toggleable__control:checked~label.sk-toggleable__label-arrow:before {content: \"▾\";}#sk-container-id-6 div.sk-estimator input.sk-toggleable__control:checked~label.sk-toggleable__label {background-color: #d4ebff;}#sk-container-id-6 div.sk-label input.sk-toggleable__control:checked~label.sk-toggleable__label {background-color: #d4ebff;}#sk-container-id-6 input.sk-hidden--visually {border: 0;clip: rect(1px 1px 1px 1px);clip: rect(1px, 1px, 1px, 1px);height: 1px;margin: -1px;overflow: hidden;padding: 0;position: absolute;width: 1px;}#sk-container-id-6 div.sk-estimator {font-family: monospace;background-color: #f0f8ff;border: 1px dotted black;border-radius: 0.25em;box-sizing: border-box;margin-bottom: 0.5em;}#sk-container-id-6 div.sk-estimator:hover {background-color: #d4ebff;}#sk-container-id-6 div.sk-parallel-item::after {content: \"\";width: 100%;border-bottom: 1px solid gray;flex-grow: 1;}#sk-container-id-6 div.sk-label:hover label.sk-toggleable__label {background-color: #d4ebff;}#sk-container-id-6 div.sk-serial::before {content: \"\";position: absolute;border-left: 1px solid gray;box-sizing: border-box;top: 0;bottom: 0;left: 50%;z-index: 0;}#sk-container-id-6 div.sk-serial {display: flex;flex-direction: column;align-items: center;background-color: white;padding-right: 0.2em;padding-left: 0.2em;position: relative;}#sk-container-id-6 div.sk-item {position: relative;z-index: 1;}#sk-container-id-6 div.sk-parallel {display: flex;align-items: stretch;justify-content: center;background-color: white;position: relative;}#sk-container-id-6 div.sk-item::before, #sk-container-id-6 div.sk-parallel-item::before {content: \"\";position: absolute;border-left: 1px solid gray;box-sizing: border-box;top: 0;bottom: 0;left: 50%;z-index: -1;}#sk-container-id-6 div.sk-parallel-item {display: flex;flex-direction: column;z-index: 1;position: relative;background-color: white;}#sk-container-id-6 div.sk-parallel-item:first-child::after {align-self: flex-end;width: 50%;}#sk-container-id-6 div.sk-parallel-item:last-child::after {align-self: flex-start;width: 50%;}#sk-container-id-6 div.sk-parallel-item:only-child::after {width: 0;}#sk-container-id-6 div.sk-dashed-wrapped {border: 1px dashed gray;margin: 0 0.4em 0.5em 0.4em;box-sizing: border-box;padding-bottom: 0.4em;background-color: white;}#sk-container-id-6 div.sk-label label {font-family: monospace;font-weight: bold;display: inline-block;line-height: 1.2em;}#sk-container-id-6 div.sk-label-container {text-align: center;}#sk-container-id-6 div.sk-container {/* jupyter's `normalize.less` sets `[hidden] { display: none; }` but bootstrap.min.css set `[hidden] { display: none !important; }` so we also need the `!important` here to be able to override the default hidden behavior on the sphinx rendered scikit-learn.org. See: https://github.com/scikit-learn/scikit-learn/issues/21755 */display: inline-block !important;position: relative;}#sk-container-id-6 div.sk-text-repr-fallback {display: none;}</style><div id=\"sk-container-id-6\" class=\"sk-top-container\"><div class=\"sk-text-repr-fallback\"><pre>XGBClassifier(base_score=None, booster=None, callbacks=None,\n",
              "              colsample_bylevel=None, colsample_bynode=None,\n",
              "              colsample_bytree=None, device=None, early_stopping_rounds=None,\n",
              "              enable_categorical=False, eval_metric=None, feature_types=None,\n",
              "              gamma=None, grow_policy=None, importance_type=None,\n",
              "              interaction_constraints=None, learning_rate=None, max_bin=None,\n",
              "              max_cat_threshold=None, max_cat_to_onehot=None,\n",
              "              max_delta_step=None, max_depth=None, max_leaves=None,\n",
              "              min_child_weight=None, missing=nan, monotone_constraints=None,\n",
              "              multi_strategy=None, n_estimators=5, n_jobs=None,\n",
              "              num_parallel_tree=None, random_state=None, ...)</pre><b>In a Jupyter environment, please rerun this cell to show the HTML representation or trust the notebook. <br />On GitHub, the HTML representation is unable to render, please try loading this page with nbviewer.org.</b></div><div class=\"sk-container\" hidden><div class=\"sk-item\"><div class=\"sk-estimator sk-toggleable\"><input class=\"sk-toggleable__control sk-hidden--visually\" id=\"sk-estimator-id-8\" type=\"checkbox\" checked><label for=\"sk-estimator-id-8\" class=\"sk-toggleable__label sk-toggleable__label-arrow\">XGBClassifier</label><div class=\"sk-toggleable__content\"><pre>XGBClassifier(base_score=None, booster=None, callbacks=None,\n",
              "              colsample_bylevel=None, colsample_bynode=None,\n",
              "              colsample_bytree=None, device=None, early_stopping_rounds=None,\n",
              "              enable_categorical=False, eval_metric=None, feature_types=None,\n",
              "              gamma=None, grow_policy=None, importance_type=None,\n",
              "              interaction_constraints=None, learning_rate=None, max_bin=None,\n",
              "              max_cat_threshold=None, max_cat_to_onehot=None,\n",
              "              max_delta_step=None, max_depth=None, max_leaves=None,\n",
              "              min_child_weight=None, missing=nan, monotone_constraints=None,\n",
              "              multi_strategy=None, n_estimators=5, n_jobs=None,\n",
              "              num_parallel_tree=None, random_state=None, ...)</pre></div></div></div></div></div>"
            ],
            "text/plain": [
              "XGBClassifier(base_score=None, booster=None, callbacks=None,\n",
              "              colsample_bylevel=None, colsample_bynode=None,\n",
              "              colsample_bytree=None, device=None, early_stopping_rounds=None,\n",
              "              enable_categorical=False, eval_metric=None, feature_types=None,\n",
              "              gamma=None, grow_policy=None, importance_type=None,\n",
              "              interaction_constraints=None, learning_rate=None, max_bin=None,\n",
              "              max_cat_threshold=None, max_cat_to_onehot=None,\n",
              "              max_delta_step=None, max_depth=None, max_leaves=None,\n",
              "              min_child_weight=None, missing=nan, monotone_constraints=None,\n",
              "              multi_strategy=None, n_estimators=5, n_jobs=None,\n",
              "              num_parallel_tree=None, random_state=None, ...)"
            ]
          },
          "execution_count": 36,
          "metadata": {},
          "output_type": "execute_result"
        }
      ],
      "source": [
        "xgb = XGBClassifier(n_estimators=5)\n",
        "\n",
        "xgb.fit(X_train, y_train)"
      ]
    },
    {
      "cell_type": "code",
      "execution_count": null,
      "metadata": {
        "execution": {
          "iopub.execute_input": "2025-01-28T18:31:26.838026Z",
          "iopub.status.busy": "2025-01-28T18:31:26.837625Z",
          "iopub.status.idle": "2025-01-28T18:31:26.852007Z",
          "shell.execute_reply": "2025-01-28T18:31:26.851061Z",
          "shell.execute_reply.started": "2025-01-28T18:31:26.837992Z"
        },
        "id": "lvmkHOOSaQAm",
        "outputId": "cf419c87-0514-426d-c896-7f8182bf621b",
        "trusted": true
      },
      "outputs": [
        {
          "data": {
            "text/plain": [
              "0.8569482288828338"
            ]
          },
          "execution_count": 37,
          "metadata": {},
          "output_type": "execute_result"
        }
      ],
      "source": [
        "xgb.score(X_train, y_train)"
      ]
    },
    {
      "cell_type": "code",
      "execution_count": null,
      "metadata": {
        "execution": {
          "iopub.execute_input": "2025-01-28T18:31:27.106488Z",
          "iopub.status.busy": "2025-01-28T18:31:27.106164Z",
          "iopub.status.idle": "2025-01-28T18:31:27.115507Z",
          "shell.execute_reply": "2025-01-28T18:31:27.114711Z",
          "shell.execute_reply.started": "2025-01-28T18:31:27.106464Z"
        },
        "id": "RcQbMroHaQAm",
        "trusted": true
      },
      "outputs": [],
      "source": [
        "y_pred = xgb.predict(X_test)"
      ]
    },
    {
      "cell_type": "code",
      "execution_count": null,
      "metadata": {
        "execution": {
          "iopub.execute_input": "2025-01-28T18:31:27.348157Z",
          "iopub.status.busy": "2025-01-28T18:31:27.347758Z",
          "iopub.status.idle": "2025-01-28T18:31:27.354964Z",
          "shell.execute_reply": "2025-01-28T18:31:27.353788Z",
          "shell.execute_reply.started": "2025-01-28T18:31:27.348126Z"
        },
        "id": "5cVIvKIIaQAn",
        "outputId": "0da16927-5fca-45ea-c33e-a7958b5cec5f",
        "trusted": true
      },
      "outputs": [
        {
          "name": "stdout",
          "output_type": "stream",
          "text": [
            "0.7282608695652174\n"
          ]
        }
      ],
      "source": [
        "print(accuracy_score(y_test, y_pred))"
      ]
    },
    {
      "cell_type": "code",
      "execution_count": null,
      "metadata": {
        "execution": {
          "iopub.execute_input": "2025-01-28T18:31:32.971792Z",
          "iopub.status.busy": "2025-01-28T18:31:32.971449Z",
          "iopub.status.idle": "2025-01-28T18:31:33.032589Z",
          "shell.execute_reply": "2025-01-28T18:31:33.031462Z",
          "shell.execute_reply.started": "2025-01-28T18:31:32.971764Z"
        },
        "id": "Kv_cej10aQAs",
        "outputId": "8a76724e-a3c4-41d8-fde0-713cfa759a57",
        "trusted": true
      },
      "outputs": [
        {
          "data": {
            "text/html": [
              "<style>#sk-container-id-7 {color: black;background-color: white;}#sk-container-id-7 pre{padding: 0;}#sk-container-id-7 div.sk-toggleable {background-color: white;}#sk-container-id-7 label.sk-toggleable__label {cursor: pointer;display: block;width: 100%;margin-bottom: 0;padding: 0.3em;box-sizing: border-box;text-align: center;}#sk-container-id-7 label.sk-toggleable__label-arrow:before {content: \"▸\";float: left;margin-right: 0.25em;color: #696969;}#sk-container-id-7 label.sk-toggleable__label-arrow:hover:before {color: black;}#sk-container-id-7 div.sk-estimator:hover label.sk-toggleable__label-arrow:before {color: black;}#sk-container-id-7 div.sk-toggleable__content {max-height: 0;max-width: 0;overflow: hidden;text-align: left;background-color: #f0f8ff;}#sk-container-id-7 div.sk-toggleable__content pre {margin: 0.2em;color: black;border-radius: 0.25em;background-color: #f0f8ff;}#sk-container-id-7 input.sk-toggleable__control:checked~div.sk-toggleable__content {max-height: 200px;max-width: 100%;overflow: auto;}#sk-container-id-7 input.sk-toggleable__control:checked~label.sk-toggleable__label-arrow:before {content: \"▾\";}#sk-container-id-7 div.sk-estimator input.sk-toggleable__control:checked~label.sk-toggleable__label {background-color: #d4ebff;}#sk-container-id-7 div.sk-label input.sk-toggleable__control:checked~label.sk-toggleable__label {background-color: #d4ebff;}#sk-container-id-7 input.sk-hidden--visually {border: 0;clip: rect(1px 1px 1px 1px);clip: rect(1px, 1px, 1px, 1px);height: 1px;margin: -1px;overflow: hidden;padding: 0;position: absolute;width: 1px;}#sk-container-id-7 div.sk-estimator {font-family: monospace;background-color: #f0f8ff;border: 1px dotted black;border-radius: 0.25em;box-sizing: border-box;margin-bottom: 0.5em;}#sk-container-id-7 div.sk-estimator:hover {background-color: #d4ebff;}#sk-container-id-7 div.sk-parallel-item::after {content: \"\";width: 100%;border-bottom: 1px solid gray;flex-grow: 1;}#sk-container-id-7 div.sk-label:hover label.sk-toggleable__label {background-color: #d4ebff;}#sk-container-id-7 div.sk-serial::before {content: \"\";position: absolute;border-left: 1px solid gray;box-sizing: border-box;top: 0;bottom: 0;left: 50%;z-index: 0;}#sk-container-id-7 div.sk-serial {display: flex;flex-direction: column;align-items: center;background-color: white;padding-right: 0.2em;padding-left: 0.2em;position: relative;}#sk-container-id-7 div.sk-item {position: relative;z-index: 1;}#sk-container-id-7 div.sk-parallel {display: flex;align-items: stretch;justify-content: center;background-color: white;position: relative;}#sk-container-id-7 div.sk-item::before, #sk-container-id-7 div.sk-parallel-item::before {content: \"\";position: absolute;border-left: 1px solid gray;box-sizing: border-box;top: 0;bottom: 0;left: 50%;z-index: -1;}#sk-container-id-7 div.sk-parallel-item {display: flex;flex-direction: column;z-index: 1;position: relative;background-color: white;}#sk-container-id-7 div.sk-parallel-item:first-child::after {align-self: flex-end;width: 50%;}#sk-container-id-7 div.sk-parallel-item:last-child::after {align-self: flex-start;width: 50%;}#sk-container-id-7 div.sk-parallel-item:only-child::after {width: 0;}#sk-container-id-7 div.sk-dashed-wrapped {border: 1px dashed gray;margin: 0 0.4em 0.5em 0.4em;box-sizing: border-box;padding-bottom: 0.4em;background-color: white;}#sk-container-id-7 div.sk-label label {font-family: monospace;font-weight: bold;display: inline-block;line-height: 1.2em;}#sk-container-id-7 div.sk-label-container {text-align: center;}#sk-container-id-7 div.sk-container {/* jupyter's `normalize.less` sets `[hidden] { display: none; }` but bootstrap.min.css set `[hidden] { display: none !important; }` so we also need the `!important` here to be able to override the default hidden behavior on the sphinx rendered scikit-learn.org. See: https://github.com/scikit-learn/scikit-learn/issues/21755 */display: inline-block !important;position: relative;}#sk-container-id-7 div.sk-text-repr-fallback {display: none;}</style><div id=\"sk-container-id-7\" class=\"sk-top-container\"><div class=\"sk-text-repr-fallback\"><pre>AdaBoostClassifier(estimator=LogisticRegression(), n_estimators=5)</pre><b>In a Jupyter environment, please rerun this cell to show the HTML representation or trust the notebook. <br />On GitHub, the HTML representation is unable to render, please try loading this page with nbviewer.org.</b></div><div class=\"sk-container\" hidden><div class=\"sk-item sk-dashed-wrapped\"><div class=\"sk-label-container\"><div class=\"sk-label sk-toggleable\"><input class=\"sk-toggleable__control sk-hidden--visually\" id=\"sk-estimator-id-9\" type=\"checkbox\" ><label for=\"sk-estimator-id-9\" class=\"sk-toggleable__label sk-toggleable__label-arrow\">AdaBoostClassifier</label><div class=\"sk-toggleable__content\"><pre>AdaBoostClassifier(estimator=LogisticRegression(), n_estimators=5)</pre></div></div></div><div class=\"sk-parallel\"><div class=\"sk-parallel-item\"><div class=\"sk-item\"><div class=\"sk-label-container\"><div class=\"sk-label sk-toggleable\"><input class=\"sk-toggleable__control sk-hidden--visually\" id=\"sk-estimator-id-10\" type=\"checkbox\" ><label for=\"sk-estimator-id-10\" class=\"sk-toggleable__label sk-toggleable__label-arrow\">estimator: LogisticRegression</label><div class=\"sk-toggleable__content\"><pre>LogisticRegression()</pre></div></div></div><div class=\"sk-serial\"><div class=\"sk-item\"><div class=\"sk-estimator sk-toggleable\"><input class=\"sk-toggleable__control sk-hidden--visually\" id=\"sk-estimator-id-11\" type=\"checkbox\" ><label for=\"sk-estimator-id-11\" class=\"sk-toggleable__label sk-toggleable__label-arrow\">LogisticRegression</label><div class=\"sk-toggleable__content\"><pre>LogisticRegression()</pre></div></div></div></div></div></div></div></div></div></div>"
            ],
            "text/plain": [
              "AdaBoostClassifier(estimator=LogisticRegression(), n_estimators=5)"
            ]
          },
          "execution_count": 40,
          "metadata": {},
          "output_type": "execute_result"
        }
      ],
      "source": [
        "est = LogisticRegression()\n",
        "ada = AdaBoostClassifier(estimator=est, n_estimators=5)\n",
        "\n",
        "ada.fit(X_train, y_train)"
      ]
    },
    {
      "cell_type": "code",
      "execution_count": null,
      "metadata": {
        "execution": {
          "iopub.execute_input": "2025-01-28T18:31:33.248909Z",
          "iopub.status.busy": "2025-01-28T18:31:33.248562Z",
          "iopub.status.idle": "2025-01-28T18:31:33.269834Z",
          "shell.execute_reply": "2025-01-28T18:31:33.268313Z",
          "shell.execute_reply.started": "2025-01-28T18:31:33.24888Z"
        },
        "id": "dkSnqT8VaQAs",
        "outputId": "6e83a0ed-0e18-407b-a33d-dd93de5ba61b",
        "trusted": true
      },
      "outputs": [
        {
          "data": {
            "text/plain": [
              "0.7220708446866485"
            ]
          },
          "execution_count": 41,
          "metadata": {},
          "output_type": "execute_result"
        }
      ],
      "source": [
        "ada.score(X_train, y_train)"
      ]
    },
    {
      "cell_type": "code",
      "execution_count": null,
      "metadata": {
        "execution": {
          "iopub.execute_input": "2025-01-28T18:31:33.459795Z",
          "iopub.status.busy": "2025-01-28T18:31:33.459256Z",
          "iopub.status.idle": "2025-01-28T18:31:33.471205Z",
          "shell.execute_reply": "2025-01-28T18:31:33.47005Z",
          "shell.execute_reply.started": "2025-01-28T18:31:33.459755Z"
        },
        "id": "xW8AaYaEaQAs",
        "outputId": "ffb7c5aa-42f7-4f3e-9b94-1ece9a5106fc",
        "trusted": true
      },
      "outputs": [
        {
          "data": {
            "text/plain": [
              "0.6630434782608695"
            ]
          },
          "execution_count": 42,
          "metadata": {},
          "output_type": "execute_result"
        }
      ],
      "source": [
        "ada.score(X_test, y_test)"
      ]
    },
    {
      "cell_type": "code",
      "execution_count": null,
      "metadata": {
        "execution": {
          "iopub.execute_input": "2025-01-28T18:31:33.6935Z",
          "iopub.status.busy": "2025-01-28T18:31:33.693164Z",
          "iopub.status.idle": "2025-01-28T18:31:33.892804Z",
          "shell.execute_reply": "2025-01-28T18:31:33.891807Z",
          "shell.execute_reply.started": "2025-01-28T18:31:33.693473Z"
        },
        "id": "uXQPPEPEaQAs",
        "outputId": "692bdc9b-30bb-4db6-edfc-fc6fea063c4d",
        "trusted": true
      },
      "outputs": [
        {
          "name": "stdout",
          "output_type": "stream",
          "text": [
            "Learning rate set to 0.5\n",
            "0:\tlearn: 0.5878044\ttotal: 59.4ms\tremaining: 535ms\n",
            "1:\tlearn: 0.5403556\ttotal: 60.6ms\tremaining: 242ms\n",
            "2:\tlearn: 0.5174135\ttotal: 61.6ms\tremaining: 144ms\n",
            "3:\tlearn: 0.4994141\ttotal: 62.5ms\tremaining: 93.7ms\n",
            "4:\tlearn: 0.4863450\ttotal: 63.3ms\tremaining: 63.3ms\n",
            "5:\tlearn: 0.4751989\ttotal: 64.2ms\tremaining: 42.8ms\n",
            "6:\tlearn: 0.4622095\ttotal: 65ms\tremaining: 27.8ms\n",
            "7:\tlearn: 0.4527384\ttotal: 65.8ms\tremaining: 16.5ms\n",
            "8:\tlearn: 0.4461710\ttotal: 66.8ms\tremaining: 7.42ms\n",
            "9:\tlearn: 0.4421337\ttotal: 67.8ms\tremaining: 0us\n"
          ]
        },
        {
          "data": {
            "text/plain": [
              "<catboost.core.CatBoostClassifier at 0x7c1b91d37df0>"
            ]
          },
          "execution_count": 43,
          "metadata": {},
          "output_type": "execute_result"
        }
      ],
      "source": [
        "cat = CatBoostClassifier(n_estimators=10,max_depth=6)\n",
        "\n",
        "cat.fit(X_train, y_train)"
      ]
    },
    {
      "cell_type": "code",
      "execution_count": null,
      "metadata": {
        "execution": {
          "iopub.execute_input": "2025-01-28T18:31:33.927477Z",
          "iopub.status.busy": "2025-01-28T18:31:33.927148Z",
          "iopub.status.idle": "2025-01-28T18:31:33.938474Z",
          "shell.execute_reply": "2025-01-28T18:31:33.936984Z",
          "shell.execute_reply.started": "2025-01-28T18:31:33.927452Z"
        },
        "id": "QdzvXbeGaQAt",
        "outputId": "c6c7f1e0-b8ea-45ed-e562-bfc002263dad",
        "trusted": true
      },
      "outputs": [
        {
          "data": {
            "text/plain": [
              "0.7997275204359673"
            ]
          },
          "execution_count": 44,
          "metadata": {},
          "output_type": "execute_result"
        }
      ],
      "source": [
        "cat.score(X_train, y_train)"
      ]
    },
    {
      "cell_type": "code",
      "execution_count": null,
      "metadata": {
        "execution": {
          "iopub.execute_input": "2025-01-28T18:31:34.14279Z",
          "iopub.status.busy": "2025-01-28T18:31:34.14239Z",
          "iopub.status.idle": "2025-01-28T18:31:34.151982Z",
          "shell.execute_reply": "2025-01-28T18:31:34.150831Z",
          "shell.execute_reply.started": "2025-01-28T18:31:34.142757Z"
        },
        "id": "08wcN40TaQAt",
        "outputId": "d073176b-8335-4dbf-d9e2-a73f8047a3de",
        "trusted": true
      },
      "outputs": [
        {
          "data": {
            "text/plain": [
              "0.7065217391304348"
            ]
          },
          "execution_count": 45,
          "metadata": {},
          "output_type": "execute_result"
        }
      ],
      "source": [
        "cat.score(X_test, y_test)"
      ]
    },
    {
      "cell_type": "code",
      "execution_count": null,
      "metadata": {
        "execution": {
          "iopub.execute_input": "2025-01-28T18:31:34.365583Z",
          "iopub.status.busy": "2025-01-28T18:31:34.365242Z",
          "iopub.status.idle": "2025-01-28T18:31:34.46885Z",
          "shell.execute_reply": "2025-01-28T18:31:34.467895Z",
          "shell.execute_reply.started": "2025-01-28T18:31:34.365555Z"
        },
        "id": "67ZDOCFeaQAt",
        "outputId": "6b3e3295-a36d-48f0-da07-1355cdaf7a42",
        "trusted": true
      },
      "outputs": [
        {
          "name": "stdout",
          "output_type": "stream",
          "text": [
            "[LightGBM] [Info] Number of positive: 401, number of negative: 333\n",
            "[LightGBM] [Info] Auto-choosing row-wise multi-threading, the overhead of testing was 0.003200 seconds.\n",
            "You can set `force_row_wise=true` to remove the overhead.\n",
            "And if memory is not enough, you can set `force_col_wise=true`.\n",
            "[LightGBM] [Info] Total Bins 310\n",
            "[LightGBM] [Info] Number of data points in the train set: 734, number of used features: 6\n",
            "[LightGBM] [Info] [binary:BoostFromScore]: pavg=0.546322 -> initscore=0.185819\n",
            "[LightGBM] [Info] Start training from score 0.185819\n",
            "[LightGBM] [Warning] No further splits with positive gain, best gain: -inf\n",
            "[LightGBM] [Warning] No further splits with positive gain, best gain: -inf\n",
            "[LightGBM] [Warning] No further splits with positive gain, best gain: -inf\n",
            "[LightGBM] [Warning] No further splits with positive gain, best gain: -inf\n",
            "[LightGBM] [Warning] No further splits with positive gain, best gain: -inf\n",
            "[LightGBM] [Warning] No further splits with positive gain, best gain: -inf\n",
            "[LightGBM] [Warning] No further splits with positive gain, best gain: -inf\n",
            "[LightGBM] [Warning] No further splits with positive gain, best gain: -inf\n",
            "[LightGBM] [Warning] No further splits with positive gain, best gain: -inf\n",
            "[LightGBM] [Warning] No further splits with positive gain, best gain: -inf\n"
          ]
        },
        {
          "data": {
            "text/html": [
              "<style>#sk-container-id-8 {color: black;background-color: white;}#sk-container-id-8 pre{padding: 0;}#sk-container-id-8 div.sk-toggleable {background-color: white;}#sk-container-id-8 label.sk-toggleable__label {cursor: pointer;display: block;width: 100%;margin-bottom: 0;padding: 0.3em;box-sizing: border-box;text-align: center;}#sk-container-id-8 label.sk-toggleable__label-arrow:before {content: \"▸\";float: left;margin-right: 0.25em;color: #696969;}#sk-container-id-8 label.sk-toggleable__label-arrow:hover:before {color: black;}#sk-container-id-8 div.sk-estimator:hover label.sk-toggleable__label-arrow:before {color: black;}#sk-container-id-8 div.sk-toggleable__content {max-height: 0;max-width: 0;overflow: hidden;text-align: left;background-color: #f0f8ff;}#sk-container-id-8 div.sk-toggleable__content pre {margin: 0.2em;color: black;border-radius: 0.25em;background-color: #f0f8ff;}#sk-container-id-8 input.sk-toggleable__control:checked~div.sk-toggleable__content {max-height: 200px;max-width: 100%;overflow: auto;}#sk-container-id-8 input.sk-toggleable__control:checked~label.sk-toggleable__label-arrow:before {content: \"▾\";}#sk-container-id-8 div.sk-estimator input.sk-toggleable__control:checked~label.sk-toggleable__label {background-color: #d4ebff;}#sk-container-id-8 div.sk-label input.sk-toggleable__control:checked~label.sk-toggleable__label {background-color: #d4ebff;}#sk-container-id-8 input.sk-hidden--visually {border: 0;clip: rect(1px 1px 1px 1px);clip: rect(1px, 1px, 1px, 1px);height: 1px;margin: -1px;overflow: hidden;padding: 0;position: absolute;width: 1px;}#sk-container-id-8 div.sk-estimator {font-family: monospace;background-color: #f0f8ff;border: 1px dotted black;border-radius: 0.25em;box-sizing: border-box;margin-bottom: 0.5em;}#sk-container-id-8 div.sk-estimator:hover {background-color: #d4ebff;}#sk-container-id-8 div.sk-parallel-item::after {content: \"\";width: 100%;border-bottom: 1px solid gray;flex-grow: 1;}#sk-container-id-8 div.sk-label:hover label.sk-toggleable__label {background-color: #d4ebff;}#sk-container-id-8 div.sk-serial::before {content: \"\";position: absolute;border-left: 1px solid gray;box-sizing: border-box;top: 0;bottom: 0;left: 50%;z-index: 0;}#sk-container-id-8 div.sk-serial {display: flex;flex-direction: column;align-items: center;background-color: white;padding-right: 0.2em;padding-left: 0.2em;position: relative;}#sk-container-id-8 div.sk-item {position: relative;z-index: 1;}#sk-container-id-8 div.sk-parallel {display: flex;align-items: stretch;justify-content: center;background-color: white;position: relative;}#sk-container-id-8 div.sk-item::before, #sk-container-id-8 div.sk-parallel-item::before {content: \"\";position: absolute;border-left: 1px solid gray;box-sizing: border-box;top: 0;bottom: 0;left: 50%;z-index: -1;}#sk-container-id-8 div.sk-parallel-item {display: flex;flex-direction: column;z-index: 1;position: relative;background-color: white;}#sk-container-id-8 div.sk-parallel-item:first-child::after {align-self: flex-end;width: 50%;}#sk-container-id-8 div.sk-parallel-item:last-child::after {align-self: flex-start;width: 50%;}#sk-container-id-8 div.sk-parallel-item:only-child::after {width: 0;}#sk-container-id-8 div.sk-dashed-wrapped {border: 1px dashed gray;margin: 0 0.4em 0.5em 0.4em;box-sizing: border-box;padding-bottom: 0.4em;background-color: white;}#sk-container-id-8 div.sk-label label {font-family: monospace;font-weight: bold;display: inline-block;line-height: 1.2em;}#sk-container-id-8 div.sk-label-container {text-align: center;}#sk-container-id-8 div.sk-container {/* jupyter's `normalize.less` sets `[hidden] { display: none; }` but bootstrap.min.css set `[hidden] { display: none !important; }` so we also need the `!important` here to be able to override the default hidden behavior on the sphinx rendered scikit-learn.org. See: https://github.com/scikit-learn/scikit-learn/issues/21755 */display: inline-block !important;position: relative;}#sk-container-id-8 div.sk-text-repr-fallback {display: none;}</style><div id=\"sk-container-id-8\" class=\"sk-top-container\"><div class=\"sk-text-repr-fallback\"><pre>LGBMClassifier(n_estimators=10)</pre><b>In a Jupyter environment, please rerun this cell to show the HTML representation or trust the notebook. <br />On GitHub, the HTML representation is unable to render, please try loading this page with nbviewer.org.</b></div><div class=\"sk-container\" hidden><div class=\"sk-item\"><div class=\"sk-estimator sk-toggleable\"><input class=\"sk-toggleable__control sk-hidden--visually\" id=\"sk-estimator-id-12\" type=\"checkbox\" checked><label for=\"sk-estimator-id-12\" class=\"sk-toggleable__label sk-toggleable__label-arrow\">LGBMClassifier</label><div class=\"sk-toggleable__content\"><pre>LGBMClassifier(n_estimators=10)</pre></div></div></div></div></div>"
            ],
            "text/plain": [
              "LGBMClassifier(n_estimators=10)"
            ]
          },
          "execution_count": 46,
          "metadata": {},
          "output_type": "execute_result"
        }
      ],
      "source": [
        "lgbm = LGBMClassifier(n_estimators=10)\n",
        "\n",
        "lgbm.fit(X_train, y_train)"
      ]
    },
    {
      "cell_type": "code",
      "execution_count": null,
      "metadata": {
        "execution": {
          "iopub.execute_input": "2025-01-28T18:31:34.589603Z",
          "iopub.status.busy": "2025-01-28T18:31:34.589269Z",
          "iopub.status.idle": "2025-01-28T18:31:34.601212Z",
          "shell.execute_reply": "2025-01-28T18:31:34.599229Z",
          "shell.execute_reply.started": "2025-01-28T18:31:34.589577Z"
        },
        "id": "G0Bd4_VTaQAt",
        "outputId": "89d739ac-3f36-4568-9c4a-a59f9976e5c7",
        "trusted": true
      },
      "outputs": [
        {
          "data": {
            "text/plain": [
              "0.8079019073569482"
            ]
          },
          "execution_count": 47,
          "metadata": {},
          "output_type": "execute_result"
        }
      ],
      "source": [
        "lgbm.score(X_train, y_train)"
      ]
    },
    {
      "cell_type": "code",
      "execution_count": null,
      "metadata": {
        "execution": {
          "iopub.execute_input": "2025-01-28T18:31:34.805084Z",
          "iopub.status.busy": "2025-01-28T18:31:34.804631Z",
          "iopub.status.idle": "2025-01-28T18:31:34.817518Z",
          "shell.execute_reply": "2025-01-28T18:31:34.816324Z",
          "shell.execute_reply.started": "2025-01-28T18:31:34.805051Z"
        },
        "id": "kYwg_rVBaQAt",
        "outputId": "d5943d82-76d5-4fc4-c910-c131640bf243",
        "trusted": true
      },
      "outputs": [
        {
          "data": {
            "text/plain": [
              "0.7228260869565217"
            ]
          },
          "execution_count": 48,
          "metadata": {},
          "output_type": "execute_result"
        }
      ],
      "source": [
        "lgbm.score(X_test, y_test)\n"
      ]
    },
    {
      "cell_type": "code",
      "execution_count": null,
      "metadata": {
        "execution": {
          "iopub.execute_input": "2025-01-28T19:30:28.29882Z",
          "iopub.status.busy": "2025-01-28T19:30:28.298472Z",
          "iopub.status.idle": "2025-01-28T19:30:28.403586Z",
          "shell.execute_reply": "2025-01-28T19:30:28.402646Z",
          "shell.execute_reply.started": "2025-01-28T19:30:28.298792Z"
        },
        "id": "I_UImu40aQAt",
        "outputId": "1f286072-b9b3-4d0d-e5af-7e6c44d33622",
        "trusted": true
      },
      "outputs": [
        {
          "name": "stdout",
          "output_type": "stream",
          "text": [
            "Models saved successfully!\n",
            "Loading  logistic_regression_model.joblib\n",
            "Accuracy: 0.7119565217391305\n",
            "Loading  svm_model.joblib\n",
            "Accuracy: 0.6847826086956522\n",
            "Loading  random_forest_model.joblib\n",
            "Accuracy: 0.7119565217391305\n",
            "Loading  bagging_model.joblib\n",
            "Accuracy: 0.7445652173913043\n",
            "Loading  extra_trees_model.joblib\n",
            "Accuracy: 0.7336956521739131\n",
            "Loading  xgboost_model.joblib\n",
            "Accuracy: 0.7282608695652174\n",
            "Loading  adaboost_model.joblib\n",
            "Accuracy: 0.6630434782608695\n",
            "Loading  catboost_model.joblib\n",
            "Accuracy: 0.7065217391304348\n",
            "Loading  lgbm_model.joblib\n",
            "Accuracy: 0.7228260869565217\n"
          ]
        }
      ],
      "source": [
        "from joblib import dump, load\n",
        "\n",
        "# Save the trained models\n",
        "dump(lr, 'logistic_regression_model.joblib')\n",
        "dump(svm, 'svm_model.joblib')\n",
        "dump(rf, 'random_forest_model.joblib')\n",
        "dump(bagg, 'bagging_model.joblib')\n",
        "dump(trees, 'extra_trees_model.joblib')\n",
        "dump(xgb, 'xgboost_model.joblib')\n",
        "dump(ada, 'adaboost_model.joblib')\n",
        "dump(cat, 'catboost_model.joblib')\n",
        "dump(lgbm, 'lgbm_model.joblib')\n",
        "\n",
        "print(\"Models saved successfully!\")\n",
        "\n",
        "model_names = [\n",
        "    'logistic_regression_model.joblib',\n",
        "    'svm_model.joblib',\n",
        "    'random_forest_model.joblib',\n",
        "    'bagging_model.joblib',\n",
        "    'extra_trees_model.joblib',\n",
        "    'xgboost_model.joblib',\n",
        "    'adaboost_model.joblib',\n",
        "    'catboost_model.joblib',\n",
        "    'lgbm_model.joblib'\n",
        "]\n",
        "for i in range(len(model_names)):\n",
        "    print(\"Loading \",model_names[i])\n",
        "    # Load a saved model\n",
        "    loaded_model = load(model_names[i])\n",
        "\n",
        "    # Use the loaded model to make predictions\n",
        "    predictions = loaded_model.predict(X_test)\n",
        "\n",
        "    # Evaluate the loaded model\n",
        "    from sklearn.metrics import accuracy_score\n",
        "    print(\"Accuracy:\", accuracy_score(y_test, predictions))\n"
      ]
    },
    {
      "cell_type": "code",
      "execution_count": null,
      "metadata": {
        "execution": {
          "iopub.execute_input": "2025-01-28T19:33:32.606921Z",
          "iopub.status.busy": "2025-01-28T19:33:32.606495Z",
          "iopub.status.idle": "2025-01-28T19:33:32.629076Z",
          "shell.execute_reply": "2025-01-28T19:33:32.628037Z",
          "shell.execute_reply.started": "2025-01-28T19:33:32.606886Z"
        },
        "id": "ULh-aW9uaQAu",
        "outputId": "857222c3-c1d8-44c5-991e-3f85e7e22523",
        "trusted": true
      },
      "outputs": [
        {
          "name": "stdout",
          "output_type": "stream",
          "text": [
            "Accuracy: 0.7119565217391305\n",
            "Accuracy: 0.7445652173913043\n"
          ]
        }
      ],
      "source": [
        "import pickle\n",
        "\n",
        "# Save a model\n",
        "with open('random_forest_model.pkl', 'wb') as file:\n",
        "    pickle.dump(rf, file)\n",
        "\n",
        "# Load the model\n",
        "with open('random_forest_model.pkl', 'rb') as file:\n",
        "    loaded_rf = pickle.load(file)\n",
        "# Save a model\n",
        "with open('bagging_model.pkl', 'wb') as file:\n",
        "    pickle.dump(bagg, file)\n",
        "\n",
        "# Load the model\n",
        "with open('bagging_model.pkl', 'rb') as file:\n",
        "    loaded_bagg = pickle.load(file)\n",
        "\n",
        "# Use the loaded model\n",
        "predictions = loaded_rf.predict(X_test)\n",
        "print(\"Accuracy:\", accuracy_score(y_test, predictions))\n",
        "predictions = loaded_bagg.predict(X_test)\n",
        "print(\"Accuracy:\", accuracy_score(y_test, predictions))\n"
      ]
    },
    {
      "cell_type": "code",
      "execution_count": null,
      "metadata": {
        "execution": {
          "iopub.execute_input": "2025-01-28T19:18:13.524602Z",
          "iopub.status.busy": "2025-01-28T19:18:13.524264Z",
          "iopub.status.idle": "2025-01-28T19:18:17.740214Z",
          "shell.execute_reply": "2025-01-28T19:18:17.739111Z",
          "shell.execute_reply.started": "2025-01-28T19:18:13.524575Z"
        },
        "id": "wK-WCRoZaQAu",
        "outputId": "95cd831d-872d-4da4-99de-00943c2ab5fc",
        "trusted": true
      },
      "outputs": [
        {
          "name": "stdout",
          "output_type": "stream",
          "text": [
            "Requirement already satisfied: joblib in /usr/local/lib/python3.10/dist-packages (1.4.2)\n"
          ]
        }
      ],
      "source": [
        "!pip install joblib"
      ]
    },
    {
      "cell_type": "code",
      "execution_count": null,
      "metadata": {
        "execution": {
          "iopub.execute_input": "2025-01-28T19:31:34.97793Z",
          "iopub.status.busy": "2025-01-28T19:31:34.977609Z",
          "iopub.status.idle": "2025-01-28T19:31:36.274774Z",
          "shell.execute_reply": "2025-01-28T19:31:36.273685Z",
          "shell.execute_reply.started": "2025-01-28T19:31:34.977905Z"
        },
        "id": "d_soiSDXaQAv",
        "outputId": "473505c1-77dd-48db-90a5-862e15a619e8",
        "trusted": true
      },
      "outputs": [
        {
          "name": "stdout",
          "output_type": "stream",
          "text": [
            "absl-py==1.4.0\n",
            "accelerate==1.2.1\n",
            "aiobotocore==2.17.0\n",
            "aiofiles==22.1.0\n",
            "aiohappyeyeballs==2.4.4\n",
            "aiohttp==3.11.10\n",
            "aioitertools==0.12.0\n",
            "aiosignal==1.3.2\n",
            "aiosqlite==0.20.0\n",
            "alabaster==1.0.0\n",
            "albucore==0.0.19\n",
            "albumentations==1.4.20\n",
            "alembic==1.14.0\n",
            "altair==5.5.0\n",
            "annotated-types==0.7.0\n",
            "annoy==1.17.3\n",
            "ansicolors==1.1.8\n",
            "antlr4-python3-runtime==4.9.3\n",
            "anyio==3.7.1\n",
            "argon2-cffi==23.1.0\n",
            "argon2-cffi-bindings==21.2.0\n",
            "args==0.1.0\n",
            "array_record==0.5.1\n",
            "arrow==1.3.0\n",
            "arviz==0.20.0\n",
            "astropy==6.1.7\n",
            "astropy-iers-data==0.2024.12.16.0.35.48\n",
            "asttokens==3.0.0\n",
            "astunparse==1.6.3\n",
            "async-timeout==4.0.3\n",
            "atpublic==4.1.0\n",
            "attrs==24.3.0\n",
            "audioread==3.0.1\n",
            "autograd==1.7.0\n",
            "babel==2.16.0\n",
            "backcall==0.2.0\n",
            "bayesian-optimization==2.0.3\n",
            "beautifulsoup4==4.12.3\n",
            "bigframes==1.29.0\n",
            "bigquery-magics==0.4.0\n",
            "bleach==6.2.0\n",
            "blinker==1.9.0\n",
            "blis==0.7.11\n",
            "blobfile==3.0.0\n",
            "blosc2==2.7.1\n",
            "bokeh==3.6.2\n",
            "Boruta==0.4.3\n",
            "boto3==1.35.93\n",
            "botocore==1.35.93\n",
            "Bottleneck==1.4.2\n",
            "-e git+https://github.com/SohierDane/BigQuery_Helper@8615a7f6c1663e7f2d48aa2b32c2dbcb600a440f#egg=bq_helper\n",
            "bqplot==0.12.43\n",
            "branca==0.8.1\n",
            "CacheControl==0.14.1\n",
            "cachetools==5.5.0\n",
            "Cartopy==0.24.1\n",
            "catalogue==2.0.10\n",
            "catboost==1.2.7\n",
            "category_encoders==2.7.0\n",
            "certifi==2024.12.14\n",
            "cesium==0.12.1\n",
            "cffi==1.17.1\n",
            "chardet==5.2.0\n",
            "charset-normalizer==3.4.0\n",
            "Chessnut==0.4.1\n",
            "chex==0.1.88\n",
            "clarabel==0.9.0\n",
            "click==8.1.7\n",
            "click-plugins==1.1.1\n",
            "cligj==0.7.2\n",
            "clint==0.5.1\n",
            "cloudpathlib==0.20.0\n",
            "cloudpickle==3.1.0\n",
            "cmake==3.31.2\n",
            "cmdstanpy==1.2.5\n",
            "colorama==0.4.6\n",
            "colorcet==3.1.0\n",
            "colorlog==6.9.0\n",
            "colorlover==0.3.0\n",
            "colour==0.1.5\n",
            "comm==0.2.2\n",
            "community==1.0.0b1\n",
            "confection==0.1.5\n",
            "cons==0.4.6\n",
            "contourpy==1.3.1\n",
            "coverage==7.6.10\n",
            "cryptography==43.0.3\n",
            "cuda-python==12.2.1\n",
            "cudf-cu12==24.12.0\n",
            "cufflinks==0.17.3\n",
            "cuml-cu12==24.12.0\n",
            "cupy-cuda12x==12.2.0\n",
            "cuvs-cu12==24.12.0\n",
            "cvxopt==1.3.2\n",
            "cvxpy==1.6.0\n",
            "cycler==0.12.1\n",
            "cymem==2.0.10\n",
            "Cython==3.0.11\n",
            "cytoolz==1.0.1\n",
            "daal==2025.0.1\n",
            "dacite==1.8.1\n",
            "dask==2024.11.2\n",
            "dask-cuda==24.12.0\n",
            "dask-cudf-cu12==24.12.0\n",
            "dask-expr==1.1.19\n",
            "dataclasses-json==0.6.7\n",
            "datascience==0.17.6\n",
            "datasets==3.2.0\n",
            "datashader==0.16.3\n",
            "db-dtypes==1.3.1\n",
            "dbus-python==1.2.18\n",
            "deap==1.4.1\n",
            "debugpy==1.8.0\n",
            "decorator==4.4.2\n",
            "deepdiff==8.1.1\n",
            "defusedxml==0.7.1\n",
            "Deprecated==1.2.15\n",
            "diffusers==0.31.0\n",
            "dill==0.3.8\n",
            "dipy==1.10.0\n",
            "distributed==2024.11.2\n",
            "distributed-ucxx-cu12==0.41.0\n",
            "distro==1.9.0\n",
            "dlib==19.24.2\n",
            "dm-tree==0.1.8\n",
            "dnspython==2.7.0\n",
            "docker==7.1.0\n",
            "docker-pycreds==0.4.0\n",
            "docstring-to-markdown==0.15\n",
            "docstring_parser==0.16\n",
            "docutils==0.21.2\n",
            "dopamine_rl==4.1.0\n",
            "duckdb==1.1.3\n",
            "earthengine-api==1.4.3\n",
            "easydict==1.13\n",
            "easyocr==1.7.2\n",
            "editdistance==0.8.1\n",
            "eerepr==0.0.4\n",
            "einops==0.8.0\n",
            "eli5==0.13.0\n",
            "emoji==2.14.0\n",
            "en-core-web-sm @ https://github.com/explosion/spacy-models/releases/download/en_core_web_sm-3.7.1/en_core_web_sm-3.7.1-py3-none-any.whl#sha256=86cc141f63942d4b2c5fcee06630fd6f904788d2f0ab005cce45aadb8fb73889\n",
            "entrypoints==0.4\n",
            "et_xmlfile==2.0.0\n",
            "etils==1.11.0\n",
            "etuples==0.3.9\n",
            "eval_type_backport==0.2.0\n",
            "exceptiongroup==1.2.2\n",
            "execnb==0.1.11\n",
            "Farama-Notifications==0.0.4\n",
            "fastai==2.7.18\n",
            "fastcore==1.7.27\n",
            "fastdownload==0.0.7\n",
            "fastjsonschema==2.21.1\n",
            "fastprogress==1.0.3\n",
            "fastrlock==0.8.2\n",
            "fasttext==0.9.3\n",
            "featuretools==1.31.0\n",
            "filelock==3.16.1\n",
            "fiona==1.10.1\n",
            "firebase-admin==6.6.0\n",
            "Flask==3.1.0\n",
            "flatbuffers==24.3.25\n",
            "flax==0.8.5\n",
            "folium==0.19.2\n",
            "fonttools==4.55.3\n",
            "fqdn==1.5.1\n",
            "frozendict==2.4.6\n",
            "frozenlist==1.5.0\n",
            "fsspec==2024.9.0\n",
            "funcy==2.0\n",
            "fury==0.12.0\n",
            "future==1.0.0\n",
            "fuzzywuzzy==0.18.0\n",
            "gast==0.6.0\n",
            "gatspy==0.3\n",
            "gcsfs==2024.10.0\n",
            "GDAL==3.6.4\n",
            "gdown==5.2.0\n",
            "geemap==0.35.1\n",
            "gensim==4.3.3\n",
            "geocoder==1.38.1\n",
            "geographiclib==2.0\n",
            "geojson==3.2.0\n",
            "geopandas==0.14.4\n",
            "geopy==2.4.1\n",
            "ghapi==1.0.6\n",
            "gin-config==0.5.0\n",
            "gitdb==4.0.11\n",
            "GitPython==3.1.43\n",
            "glob2==0.7\n",
            "google==2.0.3\n",
            "google-ai-generativelanguage==0.6.10\n",
            "google-api-core==1.34.1\n",
            "google-api-python-client==2.155.0\n",
            "google-auth==2.27.0\n",
            "google-auth-httplib2==0.2.0\n",
            "google-auth-oauthlib==1.2.1\n",
            "google-cloud-aiplatform==1.74.0\n",
            "google-cloud-automl==1.0.1\n",
            "google-cloud-bigquery==3.25.0\n",
            "google-cloud-bigquery-connection==1.17.0\n",
            "google-cloud-bigtable==2.27.0\n",
            "google-cloud-core==2.4.1\n",
            "google-cloud-datastore==2.20.2\n",
            "google-cloud-firestore==2.19.0\n",
            "google-cloud-functions==1.19.0\n",
            "google-cloud-iam==2.17.0\n",
            "google-cloud-language==2.16.0\n",
            "google-cloud-pubsub==2.27.1\n",
            "google-cloud-resource-manager==1.14.0\n",
            "google-cloud-storage==2.14.0\n",
            "google-cloud-translate==3.12.1\n",
            "google-cloud-videointelligence==2.15.0\n",
            "google-cloud-vision==3.9.0\n",
            "google-colab @ file:///colabtools/dist/google_colab-1.0.0.tar.gz\n",
            "google-crc32c==1.6.0\n",
            "google-genai==0.2.2\n",
            "google-generativeai==0.8.3\n",
            "google-pasta==0.2.0\n",
            "google-resumable-media==2.7.2\n",
            "googleapis-common-protos==1.66.0\n",
            "googledrivedownloader==0.4\n",
            "gpxpy==1.6.2\n",
            "graphviz==0.20.3\n",
            "greenlet==3.1.1\n",
            "grpc-google-iam-v1==0.13.1\n",
            "grpcio==1.68.1\n",
            "grpcio-status==1.48.2\n",
            "gspread==6.0.2\n",
            "gspread-dataframe==3.3.1\n",
            "gym==0.25.2\n",
            "gym-notices==0.0.8\n",
            "gymnasium==0.29.0\n",
            "h11==0.14.0\n",
            "h2o==3.46.0.6\n",
            "h5netcdf==1.4.1\n",
            "h5py==3.12.1\n",
            "haversine==2.9.0\n",
            "hep_ml==0.7.3\n",
            "hf_transfer==0.1.9\n",
            "holidays==0.63\n",
            "holoviews==1.20.0\n",
            "html5lib==1.1\n",
            "htmlmin==0.1.12\n",
            "httpcore==1.0.7\n",
            "httpimport==1.4.0\n",
            "httplib2==0.22.0\n",
            "httpx==0.28.1\n",
            "huggingface-hub==0.27.0\n",
            "humanize==4.11.0\n",
            "hyperopt==0.2.7\n",
            "ibis-framework==9.2.0\n",
            "idna==3.10\n",
            "igraph==0.11.8\n",
            "ImageHash==4.3.1\n",
            "imageio==2.36.1\n",
            "imageio-ffmpeg==0.5.1\n",
            "imagesize==1.4.1\n",
            "imbalanced-learn==0.12.4\n",
            "imgaug==0.4.0\n",
            "immutabledict==4.2.1\n",
            "importlib_metadata==8.5.0\n",
            "importlib_resources==6.4.5\n",
            "imutils==0.5.4\n",
            "inflect==7.4.0\n",
            "iniconfig==2.0.0\n",
            "intel-cmplr-lib-rt==2024.2.0\n",
            "intel-cmplr-lib-ur==2024.2.0\n",
            "intel-openmp==2024.2.0\n",
            "ipyevents==2.0.2\n",
            "ipyfilechooser==0.6.0\n",
            "ipykernel==5.5.6\n",
            "ipyleaflet==0.19.2\n",
            "ipympl==0.9.6\n",
            "ipyparallel==8.8.0\n",
            "ipython==7.34.0\n",
            "ipython-genutils==0.2.0\n",
            "ipython-sql==0.5.0\n",
            "ipytree==0.2.2\n",
            "ipywidgets==8.1.5\n",
            "isoduration==20.11.0\n",
            "isoweek==1.3.3\n",
            "itsdangerous==2.2.0\n",
            "Janome==0.5.0\n",
            "jax==0.4.33\n",
            "jax-cuda12-pjrt==0.4.33\n",
            "jax-cuda12-plugin==0.4.33\n",
            "jaxlib==0.4.33\n",
            "jedi==0.19.2\n",
            "jeepney==0.7.1\n",
            "jellyfish==1.1.0\n",
            "jieba==0.42.1\n",
            "Jinja2==3.1.4\n",
            "jiter==0.8.2\n",
            "jmespath==1.0.1\n",
            "joblib==1.4.2\n",
            "json5==0.10.0\n",
            "jsonpatch==1.33\n",
            "jsonpickle==4.0.1\n",
            "jsonpointer==3.0.0\n",
            "jsonschema==4.23.0\n",
            "jsonschema-specifications==2024.10.1\n",
            "jupyter-console==6.1.0\n",
            "jupyter-events==0.11.0\n",
            "jupyter-leaflet==0.19.2\n",
            "jupyter-lsp==1.5.1\n",
            "jupyter-ydoc==0.2.5\n",
            "jupyter_client==8.6.3\n",
            "jupyter_core==5.7.2\n",
            "jupyter_server==2.12.5\n",
            "jupyter_server_fileid==0.9.3\n",
            "jupyter_server_terminals==0.5.3\n",
            "jupyter_server_ydoc==0.8.0\n",
            "jupyterlab==3.6.8\n",
            "jupyterlab-lsp==3.10.2\n",
            "jupyterlab_pygments==0.3.0\n",
            "jupyterlab_server==2.27.3\n",
            "jupyterlab_widgets==3.0.13\n",
            "kaggle==1.6.17\n",
            "kaggle-environments==1.16.10\n",
            "kagglehub==0.3.6\n",
            "keras==3.5.0\n",
            "keras-core==0.1.7\n",
            "keras-cv==0.9.0\n",
            "keras-hub==0.18.1\n",
            "keras-nlp==0.18.1\n",
            "keras-tuner==1.4.7\n",
            "keyring==23.5.0\n",
            "kiwisolver==1.4.7\n",
            "kornia==0.7.4\n",
            "kornia_rs==0.1.8\n",
            "kt-legacy==1.0.5\n",
            "langchain==0.3.12\n",
            "langchain-core==0.3.25\n",
            "langchain-text-splitters==0.3.3\n",
            "langcodes==3.5.0\n",
            "langid==1.1.6\n",
            "langsmith==0.2.3\n",
            "language_data==1.3.0\n",
            "launchpadlib==1.10.16\n",
            "lazr.restfulclient==0.14.4\n",
            "lazr.uri==1.0.6\n",
            "lazy_loader==0.4\n",
            "learntools @ git+https://github.com/Kaggle/learntools@010e3b5035354e15c073a0aca9e202c2e2beb742\n",
            "leven==1.0.4\n",
            "libclang==18.1.1\n",
            "libcudf-cu12==24.12.0\n",
            "libkvikio-cu12==24.12.1\n",
            "libpysal==4.9.2\n",
            "librosa==0.10.2.post1\n",
            "libucx-cu12==1.17.0.post1\n",
            "libucxx-cu12==0.41.0\n",
            "lightgbm==4.5.0\n",
            "lightning-utilities==0.11.9\n",
            "lime==0.2.0.1\n",
            "line_profiler==4.2.0\n",
            "linkify-it-py==2.0.3\n",
            "llvmlite==0.43.0\n",
            "lml==0.1.0\n",
            "locket==1.0.0\n",
            "logical-unification==0.4.6\n",
            "lxml==5.3.0\n",
            "Mako==1.3.8\n",
            "mamba==0.11.3\n",
            "marisa-trie==1.2.1\n",
            "Markdown==3.7\n",
            "markdown-it-py==3.0.0\n",
            "MarkupSafe==3.0.2\n",
            "marshmallow==3.24.2\n",
            "matplotlib==3.7.5\n",
            "matplotlib-inline==0.1.7\n",
            "matplotlib-venn==1.1.1\n",
            "mdit-py-plugins==0.4.2\n",
            "mdurl==0.1.2\n",
            "miniKanren==1.0.3\n",
            "missingno==0.5.2\n",
            "mistune==0.8.4\n",
            "mizani==0.13.1\n",
            "mkl==2025.0.1\n",
            "mkl-fft==1.3.8\n",
            "mkl-random==1.2.4\n",
            "mkl-service==2.4.1\n",
            "mkl-umath==0.1.1\n",
            "ml-dtypes==0.4.1\n",
            "mlcrate==0.2.0\n",
            "mlxtend==0.23.3\n",
            "mne==1.9.0\n",
            "more-itertools==10.5.0\n",
            "moviepy==1.0.3\n",
            "mpld3==0.5.10\n",
            "mpmath==1.3.0\n",
            "msgpack==1.1.0\n",
            "multidict==6.1.0\n",
            "multimethod==1.12\n",
            "multipledispatch==1.0.0\n",
            "multiprocess==0.70.16\n",
            "multitasking==0.0.11\n",
            "murmurhash==1.0.11\n",
            "music21==9.3.0\n",
            "mypy-extensions==1.0.0\n",
            "namex==0.0.8\n",
            "narwhals==1.18.4\n",
            "natsort==8.4.0\n",
            "nbclassic==1.1.0\n",
            "nbclient==0.5.13\n",
            "nbconvert==6.4.5\n",
            "nbdev==2.3.34\n",
            "nbformat==5.10.4\n",
            "ndindex==1.9.2\n",
            "nest-asyncio==1.6.0\n",
            "networkx==3.4.2\n",
            "nibabel==5.3.2\n",
            "nilearn==0.10.4\n",
            "ninja==1.11.1.3\n",
            "nltk==3.2.4\n",
            "nose==1.3.7\n",
            "notebook==6.5.4\n",
            "notebook_shim==0.2.4\n",
            "numba==0.60.0\n",
            "numba-cuda==0.0.17.1\n",
            "numexpr==2.10.2\n",
            "numpy==1.26.4\n",
            "nvidia-cublas-cu12==12.6.4.1\n",
            "nvidia-cuda-cupti-cu12==12.6.80\n",
            "nvidia-cuda-nvcc-cu12==12.6.85\n",
            "nvidia-cuda-runtime-cu12==12.6.77\n",
            "nvidia-cudnn-cu12==9.6.0.74\n",
            "nvidia-cufft-cu12==11.3.0.4\n",
            "nvidia-curand-cu12==10.3.7.77\n",
            "nvidia-cusolver-cu12==11.7.1.2\n",
            "nvidia-cusparse-cu12==12.5.4.2\n",
            "nvidia-nccl-cu12==2.23.4\n",
            "nvidia-nvcomp-cu12==4.1.0.6\n",
            "nvidia-nvjitlink-cu12==12.6.85\n",
            "nvtx==0.2.10\n",
            "nx-cugraph-cu12 @ https://pypi.nvidia.com/nx-cugraph-cu12/nx_cugraph_cu12-24.10.0-py3-none-any.whl\n",
            "oauth2client==4.1.3\n",
            "oauthlib==3.2.2\n",
            "odfpy==1.4.1\n",
            "olefile==0.47\n",
            "omegaconf==2.3.0\n",
            "onnx==1.17.0\n",
            "openai==1.57.4\n",
            "opencv-contrib-python==4.10.0.84\n",
            "opencv-python==4.10.0.84\n",
            "opencv-python-headless==4.10.0.84\n",
            "openpyxl==3.1.5\n",
            "openslide-bin==4.0.0.6\n",
            "openslide-python==1.4.1\n",
            "opentelemetry-api==1.29.0\n",
            "opentelemetry-sdk==1.29.0\n",
            "opentelemetry-semantic-conventions==0.50b0\n",
            "opt_einsum==3.4.0\n",
            "optax==0.2.4\n",
            "optree==0.13.1\n",
            "optuna==4.1.0\n",
            "orbax-checkpoint==0.6.4\n",
            "orderly-set==5.2.3\n",
            "orjson==3.10.12\n",
            "osqp==0.6.7.post3\n",
            "overrides==7.7.0\n",
            "packaging==24.2\n",
            "pandas==2.2.2\n",
            "pandas-datareader==0.10.0\n",
            "pandas-gbq==0.25.0\n",
            "pandas-profiling==3.6.6\n",
            "pandas-stubs==2.2.2.240909\n",
            "pandasql==0.7.3\n",
            "pandocfilters==1.5.1\n",
            "panel==1.5.4\n",
            "papermill==2.6.0\n",
            "param==2.2.0\n",
            "parso==0.8.4\n",
            "parsy==2.1\n",
            "partd==1.4.2\n",
            "path==17.1.0\n",
            "path.py==12.5.0\n",
            "pathlib==1.0.1\n",
            "pathos==0.3.2\n",
            "patsy==1.0.1\n",
            "pdf2image==1.17.0\n",
            "peewee==3.17.8\n",
            "peft==0.14.0\n",
            "pettingzoo==1.24.0\n",
            "pexpect==4.9.0\n",
            "phik==0.12.4\n",
            "pickleshare==0.7.5\n",
            "pillow==11.0.0\n",
            "platformdirs==4.3.6\n",
            "plotly==5.24.1\n",
            "plotly-express==0.4.1\n",
            "plotnine==0.14.4\n",
            "pluggy==1.5.0\n",
            "ply==3.11\n",
            "polars==1.9.0\n",
            "pooch==1.8.2\n",
            "portpicker==1.5.2\n",
            "pox==0.3.5\n",
            "ppft==1.7.6.9\n",
            "preprocessing==0.1.13\n",
            "preshed==3.0.9\n",
            "prettytable==3.12.0\n",
            "proglog==0.1.10\n",
            "progressbar2==4.5.0\n",
            "prometheus_client==0.21.1\n",
            "promise==2.3\n",
            "prompt_toolkit==3.0.48\n",
            "propcache==0.2.1\n",
            "prophet==1.1.6\n",
            "proto-plus==1.25.0\n",
            "protobuf==3.20.3\n",
            "psutil==5.9.5\n",
            "psycopg2==2.9.10\n",
            "ptyprocess==0.7.0\n",
            "pudb==2024.1.3\n",
            "py-cpuinfo==9.0.0\n",
            "py4j==0.10.9.7\n",
            "pyaml==25.1.0\n",
            "PyArabic==0.6.15\n",
            "pyarrow==17.0.0\n",
            "pyasn1==0.6.1\n",
            "pyasn1_modules==0.4.1\n",
            "pybind11==2.13.6\n",
            "pyclipper==1.3.0.post6\n",
            "pycocotools==2.0.8\n",
            "pycparser==2.22\n",
            "pycryptodome==3.21.0\n",
            "pycryptodomex==3.21.0\n",
            "pyct==0.5.0\n",
            "pydantic==2.10.3\n",
            "pydantic_core==2.27.1\n",
            "pydata-google-auth==1.9.0\n",
            "pydegensac==0.1.2\n",
            "pydicom==3.0.1\n",
            "pydot==3.0.3\n",
            "pydotplus==2.0.2\n",
            "PyDrive==1.3.1\n",
            "PyDrive2==1.21.3\n",
            "pydub==0.25.1\n",
            "pyemd==1.0.0\n",
            "pyerfa==2.0.1.5\n",
            "pyexcel-io==0.6.7\n",
            "pyexcel-ods==0.6.0\n",
            "pygame==2.6.1\n",
            "pygit2==1.16.0\n",
            "pygltflib==1.16.3\n",
            "Pygments==2.18.0\n",
            "PyGObject==3.42.1\n",
            "PyJWT==2.10.1\n",
            "pyLDAvis==3.4.1\n",
            "pylibcudf-cu12==24.12.0\n",
            "pylibcugraph-cu12==24.10.0\n",
            "pylibraft-cu12==24.12.0\n",
            "pymc==5.19.1\n",
            "pymc3==3.11.4\n",
            "pymongo==4.10.1\n",
            "Pympler==1.1\n",
            "pymystem3==0.2.0\n",
            "pynvjitlink-cu12==0.4.0\n",
            "pynvml==11.4.1\n",
            "pyogrio==0.10.0\n",
            "Pyomo==6.8.2\n",
            "PyOpenGL==3.1.7\n",
            "pyOpenSSL==24.2.1\n",
            "pyparsing==3.2.0\n",
            "pypdf==5.1.0\n",
            "pyperclip==1.9.0\n",
            "pyproj==3.7.0\n",
            "pyshp==2.3.1\n",
            "PySocks==1.7.1\n",
            "pyspark==3.5.3\n",
            "pytensor==2.26.4\n",
            "pytesseract==0.3.13\n",
            "pytest==8.3.4\n",
            "python-apt==0.0.0\n",
            "python-bidi==0.6.3\n",
            "python-box==7.3.0\n",
            "python-dateutil==2.8.2\n",
            "python-json-logger==3.2.1\n",
            "python-louvain==0.16\n",
            "python-lsp-jsonrpc==1.1.2\n",
            "python-lsp-server==1.12.0\n",
            "python-slugify==8.0.4\n",
            "python-utils==3.9.1\n",
            "pytorch-ignite==0.5.1\n",
            "pytorch-lightning==2.5.0.post0\n",
            "pytz==2024.2\n",
            "PyUpSet==0.1.1.post7\n",
            "pyviz_comms==3.0.3\n",
            "PyWavelets==1.8.0\n",
            "PyYAML==6.0.2\n",
            "pyzmq==24.0.1\n",
            "qdldl==0.1.7.post4\n",
            "qgrid==1.3.1\n",
            "qtconsole==5.6.1\n",
            "QtPy==2.4.2\n",
            "raft-dask-cu12==24.12.0\n",
            "rapids-dask-dependency==24.12.0\n",
            "ratelim==0.1.6\n",
            "ray==2.40.0\n",
            "referencing==0.35.1\n",
            "regex==2024.11.6\n",
            "requests==2.32.3\n",
            "requests-oauthlib==1.3.1\n",
            "requests-toolbelt==1.0.0\n",
            "requirements-parser==0.9.0\n",
            "rfc3339-validator==0.1.4\n",
            "rfc3986-validator==0.1.1\n",
            "rgf-python==3.12.0\n",
            "rich==13.9.4\n",
            "rmm-cu12==24.12.1\n",
            "rpds-py==0.22.3\n",
            "rpy2==3.4.2\n",
            "rsa==4.9\n",
            "Rtree==1.3.0\n",
            "s3fs==2024.9.0\n",
            "s3transfer==0.10.4\n",
            "safetensors==0.4.5\n",
            "scikit-image==0.25.0\n",
            "scikit-learn==1.6.1\n",
            "scikit-learn-intelex==2025.0.1\n",
            "scikit-multilearn==0.2.0\n",
            "scikit-optimize==0.10.2\n",
            "scikit-plot==0.3.7\n",
            "scikit-surprise==1.1.4\n",
            "scipy==1.13.1\n",
            "scooby==0.10.0\n",
            "scs==3.2.7\n",
            "seaborn==0.12.2\n",
            "SecretStorage==3.3.1\n",
            "segment_anything @ git+https://github.com/facebookresearch/segment-anything.git@dca509fe793f601edb92606367a655c15ac00fdf\n",
            "semver==3.0.2\n",
            "Send2Trash==1.8.3\n",
            "sentence-transformers==3.3.1\n",
            "sentencepiece==0.2.0\n",
            "sentry-sdk==2.19.2\n",
            "setproctitle==1.3.4\n",
            "setuptools-scm==8.1.0\n",
            "shap==0.44.1\n",
            "shapely==2.0.6\n",
            "shellingham==1.5.4\n",
            "Shimmy==1.3.0\n",
            "simple-parsing==0.1.6\n",
            "SimpleITK==2.4.0\n",
            "six==1.17.0\n",
            "sklearn-pandas==2.2.0\n",
            "slicer==0.0.7\n",
            "smart-open==7.0.5\n",
            "smmap==5.0.1\n",
            "sniffio==1.3.1\n",
            "snowballstemmer==2.2.0\n",
            "sortedcontainers==2.4.0\n",
            "soundfile==0.12.1\n",
            "soupsieve==2.6\n",
            "soxr==0.5.0.post1\n",
            "spacy==3.7.5\n",
            "spacy-legacy==3.0.12\n",
            "spacy-loggers==1.0.5\n",
            "Sphinx==8.1.3\n",
            "sphinx-rtd-theme==0.2.4\n",
            "sphinxcontrib-applehelp==2.0.0\n",
            "sphinxcontrib-devhelp==2.0.0\n",
            "sphinxcontrib-htmlhelp==2.1.0\n",
            "sphinxcontrib-jsmath==1.0.1\n",
            "sphinxcontrib-qthelp==2.0.0\n",
            "sphinxcontrib-serializinghtml==2.0.0\n",
            "SQLAlchemy==2.0.36\n",
            "sqlglot==25.1.0\n",
            "sqlparse==0.5.3\n",
            "squarify==0.4.4\n",
            "srsly==2.5.0\n",
            "stable-baselines3==2.1.0\n",
            "stanio==0.5.1\n",
            "statsmodels==0.14.4\n",
            "stopit==1.1.2\n",
            "StrEnum==0.4.15\n",
            "stringzilla==3.11.1\n",
            "stumpy==1.13.0\n",
            "sympy==1.13.1\n",
            "tables==3.10.1\n",
            "tabulate==0.9.0\n",
            "tbb==2022.0.0\n",
            "tbb4py==2022.0.0\n",
            "tblib==3.0.0\n",
            "tcmlib==1.2.0\n",
            "tenacity==9.0.0\n",
            "tensorboard==2.17.1\n",
            "tensorboard-data-server==0.7.2\n",
            "tensorflow==2.17.1\n",
            "tensorflow-cloud==0.1.5\n",
            "tensorflow-datasets==4.9.7\n",
            "tensorflow-hub==0.16.1\n",
            "tensorflow-io==0.37.1\n",
            "tensorflow-io-gcs-filesystem==0.37.1\n",
            "tensorflow-metadata==1.13.1\n",
            "tensorflow-probability==0.24.0\n",
            "tensorflow-text==2.17.0\n",
            "tensorflow_decision_forests==1.10.0\n",
            "tensorstore==0.1.71\n",
            "termcolor==2.5.0\n",
            "terminado==0.18.1\n",
            "testpath==0.6.0\n",
            "text-unidecode==1.3\n",
            "textblob==0.17.1\n",
            "texttable==1.7.0\n",
            "tf-slim==1.1.0\n",
            "tf_keras==2.17.0\n",
            "Theano==1.0.5\n",
            "Theano-PyMC==1.1.2\n",
            "thinc==8.2.5\n",
            "threadpoolctl==3.5.0\n",
            "tifffile==2024.12.12\n",
            "tiktoken==0.8.0\n",
            "timm==1.0.12\n",
            "tinycss2==1.4.0\n",
            "tokenizers==0.21.0\n",
            "toml==0.10.2\n",
            "tomli==2.2.1\n",
            "toolz==0.12.1\n",
            "torch @ https://download.pytorch.org/whl/cu121_full/torch-2.5.1%2Bcu121-cp310-cp310-linux_x86_64.whl\n",
            "torchaudio @ https://download.pytorch.org/whl/cu121/torchaudio-2.5.1%2Bcu121-cp310-cp310-linux_x86_64.whl\n",
            "torchinfo==1.8.0\n",
            "torchmetrics==1.6.1\n",
            "torchsummary==1.5.1\n",
            "torchtune==0.5.0\n",
            "torchvision @ https://download.pytorch.org/whl/cu121/torchvision-0.20.1%2Bcu121-cp310-cp310-linux_x86_64.whl\n",
            "tornado==6.3.3\n",
            "TPOT==0.12.1\n",
            "tqdm==4.67.1\n",
            "traitlets==5.7.1\n",
            "traittypes==0.2.1\n",
            "transformers==4.47.0\n",
            "treelite==4.3.0\n",
            "trx-python==0.3\n",
            "tsfresh==0.20.2\n",
            "tweepy==4.14.0\n",
            "typeguard==4.4.1\n",
            "typer==0.15.1\n",
            "types-python-dateutil==2.9.0.20241206\n",
            "types-pytz==2024.2.0.20241003\n",
            "types-setuptools==75.6.0.20241126\n",
            "typing-inspect==0.9.0\n",
            "typing_extensions==4.12.2\n",
            "tzdata==2024.2\n",
            "tzlocal==5.2\n",
            "uc-micro-py==1.0.3\n",
            "ucx-py-cu12==0.41.0\n",
            "ucxx-cu12==0.41.0\n",
            "ujson==5.10.0\n",
            "umf==0.9.1\n",
            "update-checker==0.18.0\n",
            "uri-template==1.3.0\n",
            "uritemplate==4.1.1\n",
            "urllib3==2.2.3\n",
            "urwid==2.6.16\n",
            "urwid_readline==0.15.1\n",
            "vega-datasets==0.9.0\n",
            "visions==0.7.6\n",
            "vtk==9.3.1\n",
            "wadllib==1.3.6\n",
            "Wand==0.6.13\n",
            "wandb==0.19.1\n",
            "wasabi==1.1.3\n",
            "watchdog==6.0.0\n",
            "wavio==0.0.9\n",
            "wcwidth==0.2.13\n",
            "weasel==0.4.1\n",
            "webcolors==24.11.1\n",
            "webencodings==0.5.1\n",
            "websocket-client==1.8.0\n",
            "websockets==14.1\n",
            "Werkzeug==3.1.3\n",
            "widgetsnbextension==4.0.13\n",
            "woodwork==0.31.0\n",
            "wordcloud==1.9.4\n",
            "wrapt==1.17.0\n",
            "wurlitzer==3.1.1\n",
            "xarray==2024.11.0\n",
            "xarray-einstats==0.8.0\n",
            "xgboost==2.0.3\n",
            "xlrd==2.0.1\n",
            "xvfbwrapper==0.2.9\n",
            "xxhash==3.5.0\n",
            "xyzservices==2024.9.0\n",
            "y-py==0.6.2\n",
            "yarl==1.18.3\n",
            "ydata-profiling==4.12.1\n",
            "ydf==0.9.0\n",
            "yellowbrick==1.5\n",
            "yfinance==0.2.50\n",
            "ypy-websocket==0.8.4\n",
            "zict==3.0.0\n",
            "zipp==3.21.0\n"
          ]
        }
      ],
      "source": [
        "!pip freeze"
      ]
    },
    {
      "cell_type": "code",
      "execution_count": null,
      "metadata": {
        "execution": {
          "iopub.execute_input": "2025-01-28T19:27:09.270003Z",
          "iopub.status.busy": "2025-01-28T19:27:09.26957Z",
          "iopub.status.idle": "2025-01-28T19:27:18.184984Z",
          "shell.execute_reply": "2025-01-28T19:27:18.183612Z",
          "shell.execute_reply.started": "2025-01-28T19:27:09.26996Z"
        },
        "id": "ZPT3R7RbaQAv",
        "outputId": "e4c05ab1-905c-451f-b313-b796e671579c",
        "trusted": true
      },
      "outputs": [
        {
          "name": "stdout",
          "output_type": "stream",
          "text": [
            "Collecting scikit-learn==1.6.1\n",
            "  Downloading scikit_learn-1.6.1-cp310-cp310-manylinux_2_17_x86_64.manylinux2014_x86_64.whl.metadata (18 kB)\n",
            "Requirement already satisfied: numpy>=1.19.5 in /usr/local/lib/python3.10/dist-packages (from scikit-learn==1.6.1) (1.26.4)\n",
            "Requirement already satisfied: scipy>=1.6.0 in /usr/local/lib/python3.10/dist-packages (from scikit-learn==1.6.1) (1.13.1)\n",
            "Requirement already satisfied: joblib>=1.2.0 in /usr/local/lib/python3.10/dist-packages (from scikit-learn==1.6.1) (1.4.2)\n",
            "Requirement already satisfied: threadpoolctl>=3.1.0 in /usr/local/lib/python3.10/dist-packages (from scikit-learn==1.6.1) (3.5.0)\n",
            "Requirement already satisfied: mkl_fft in /usr/local/lib/python3.10/dist-packages (from numpy>=1.19.5->scikit-learn==1.6.1) (1.3.8)\n",
            "Requirement already satisfied: mkl_random in /usr/local/lib/python3.10/dist-packages (from numpy>=1.19.5->scikit-learn==1.6.1) (1.2.4)\n",
            "Requirement already satisfied: mkl_umath in /usr/local/lib/python3.10/dist-packages (from numpy>=1.19.5->scikit-learn==1.6.1) (0.1.1)\n",
            "Requirement already satisfied: mkl in /usr/local/lib/python3.10/dist-packages (from numpy>=1.19.5->scikit-learn==1.6.1) (2025.0.1)\n",
            "Requirement already satisfied: tbb4py in /usr/local/lib/python3.10/dist-packages (from numpy>=1.19.5->scikit-learn==1.6.1) (2022.0.0)\n",
            "Requirement already satisfied: mkl-service in /usr/local/lib/python3.10/dist-packages (from numpy>=1.19.5->scikit-learn==1.6.1) (2.4.1)\n",
            "Requirement already satisfied: intel-openmp>=2024 in /usr/local/lib/python3.10/dist-packages (from mkl->numpy>=1.19.5->scikit-learn==1.6.1) (2024.2.0)\n",
            "Requirement already satisfied: tbb==2022.* in /usr/local/lib/python3.10/dist-packages (from mkl->numpy>=1.19.5->scikit-learn==1.6.1) (2022.0.0)\n",
            "Requirement already satisfied: tcmlib==1.* in /usr/local/lib/python3.10/dist-packages (from tbb==2022.*->mkl->numpy>=1.19.5->scikit-learn==1.6.1) (1.2.0)\n",
            "Requirement already satisfied: intel-cmplr-lib-rt in /usr/local/lib/python3.10/dist-packages (from mkl_umath->numpy>=1.19.5->scikit-learn==1.6.1) (2024.2.0)\n",
            "Requirement already satisfied: intel-cmplr-lib-ur==2024.2.0 in /usr/local/lib/python3.10/dist-packages (from intel-openmp>=2024->mkl->numpy>=1.19.5->scikit-learn==1.6.1) (2024.2.0)\n",
            "Downloading scikit_learn-1.6.1-cp310-cp310-manylinux_2_17_x86_64.manylinux2014_x86_64.whl (13.5 MB)\n",
            "\u001b[2K   \u001b[90m━━━━━━━━━━━━━━━━━━━━━━━━━━━━━━━━━━━━━━━━\u001b[0m \u001b[32m13.5/13.5 MB\u001b[0m \u001b[31m74.8 MB/s\u001b[0m eta \u001b[36m0:00:00\u001b[0m:00:01\u001b[0m00:01\u001b[0m\n",
            "\u001b[?25hInstalling collected packages: scikit-learn\n",
            "  Attempting uninstall: scikit-learn\n",
            "    Found existing installation: scikit-learn 1.2.2\n",
            "    Uninstalling scikit-learn-1.2.2:\n",
            "      Successfully uninstalled scikit-learn-1.2.2\n",
            "\u001b[31mERROR: pip's dependency resolver does not currently take into account all the packages that are installed. This behaviour is the source of the following dependency conflicts.\n",
            "category-encoders 2.7.0 requires scikit-learn<1.6.0,>=1.0.0, but you have scikit-learn 1.6.1 which is incompatible.\u001b[0m\u001b[31m\n",
            "\u001b[0mSuccessfully installed scikit-learn-1.6.1\n",
            "Note: you may need to restart the kernel to use updated packages.\n"
          ]
        }
      ],
      "source": [
        "pip install scikit-learn==1.6.1"
      ]
    },
    {
      "cell_type": "code",
      "execution_count": null,
      "metadata": {
        "execution": {
          "iopub.execute_input": "2025-01-28T19:33:04.422153Z",
          "iopub.status.busy": "2025-01-28T19:33:04.421768Z",
          "iopub.status.idle": "2025-01-28T19:33:09.088638Z",
          "shell.execute_reply": "2025-01-28T19:33:09.087207Z",
          "shell.execute_reply.started": "2025-01-28T19:33:04.422123Z"
        },
        "id": "6nLzoeAZaQAw",
        "outputId": "bef7198d-5c64-4092-9a18-92ed7ef719f0",
        "trusted": true
      },
      "outputs": [
        {
          "name": "stdout",
          "output_type": "stream",
          "text": [
            "Requirement already satisfied: category-encoders in /usr/local/lib/python3.10/dist-packages (2.7.0)\n",
            "Collecting category-encoders\n",
            "  Downloading category_encoders-2.8.0-py3-none-any.whl.metadata (7.9 kB)\n",
            "Requirement already satisfied: numpy>=1.14.0 in /usr/local/lib/python3.10/dist-packages (from category-encoders) (1.26.4)\n",
            "Requirement already satisfied: pandas>=1.0.5 in /usr/local/lib/python3.10/dist-packages (from category-encoders) (2.2.2)\n",
            "Requirement already satisfied: patsy>=0.5.1 in /usr/local/lib/python3.10/dist-packages (from category-encoders) (1.0.1)\n",
            "Requirement already satisfied: scikit-learn>=1.6.0 in /usr/local/lib/python3.10/dist-packages (from category-encoders) (1.6.1)\n",
            "Requirement already satisfied: scipy>=1.0.0 in /usr/local/lib/python3.10/dist-packages (from category-encoders) (1.13.1)\n",
            "Requirement already satisfied: statsmodels>=0.9.0 in /usr/local/lib/python3.10/dist-packages (from category-encoders) (0.14.4)\n",
            "Requirement already satisfied: mkl_fft in /usr/local/lib/python3.10/dist-packages (from numpy>=1.14.0->category-encoders) (1.3.8)\n",
            "Requirement already satisfied: mkl_random in /usr/local/lib/python3.10/dist-packages (from numpy>=1.14.0->category-encoders) (1.2.4)\n",
            "Requirement already satisfied: mkl_umath in /usr/local/lib/python3.10/dist-packages (from numpy>=1.14.0->category-encoders) (0.1.1)\n",
            "Requirement already satisfied: mkl in /usr/local/lib/python3.10/dist-packages (from numpy>=1.14.0->category-encoders) (2025.0.1)\n",
            "Requirement already satisfied: tbb4py in /usr/local/lib/python3.10/dist-packages (from numpy>=1.14.0->category-encoders) (2022.0.0)\n",
            "Requirement already satisfied: mkl-service in /usr/local/lib/python3.10/dist-packages (from numpy>=1.14.0->category-encoders) (2.4.1)\n",
            "Requirement already satisfied: python-dateutil>=2.8.2 in /usr/local/lib/python3.10/dist-packages (from pandas>=1.0.5->category-encoders) (2.8.2)\n",
            "Requirement already satisfied: pytz>=2020.1 in /usr/local/lib/python3.10/dist-packages (from pandas>=1.0.5->category-encoders) (2024.2)\n",
            "Requirement already satisfied: tzdata>=2022.7 in /usr/local/lib/python3.10/dist-packages (from pandas>=1.0.5->category-encoders) (2024.2)\n",
            "Requirement already satisfied: joblib>=1.2.0 in /usr/local/lib/python3.10/dist-packages (from scikit-learn>=1.6.0->category-encoders) (1.4.2)\n",
            "Requirement already satisfied: threadpoolctl>=3.1.0 in /usr/local/lib/python3.10/dist-packages (from scikit-learn>=1.6.0->category-encoders) (3.5.0)\n",
            "Requirement already satisfied: packaging>=21.3 in /usr/local/lib/python3.10/dist-packages (from statsmodels>=0.9.0->category-encoders) (24.2)\n",
            "Requirement already satisfied: six>=1.5 in /usr/local/lib/python3.10/dist-packages (from python-dateutil>=2.8.2->pandas>=1.0.5->category-encoders) (1.17.0)\n",
            "Requirement already satisfied: intel-openmp>=2024 in /usr/local/lib/python3.10/dist-packages (from mkl->numpy>=1.14.0->category-encoders) (2024.2.0)\n",
            "Requirement already satisfied: tbb==2022.* in /usr/local/lib/python3.10/dist-packages (from mkl->numpy>=1.14.0->category-encoders) (2022.0.0)\n",
            "Requirement already satisfied: tcmlib==1.* in /usr/local/lib/python3.10/dist-packages (from tbb==2022.*->mkl->numpy>=1.14.0->category-encoders) (1.2.0)\n",
            "Requirement already satisfied: intel-cmplr-lib-rt in /usr/local/lib/python3.10/dist-packages (from mkl_umath->numpy>=1.14.0->category-encoders) (2024.2.0)\n",
            "Requirement already satisfied: intel-cmplr-lib-ur==2024.2.0 in /usr/local/lib/python3.10/dist-packages (from intel-openmp>=2024->mkl->numpy>=1.14.0->category-encoders) (2024.2.0)\n",
            "Downloading category_encoders-2.8.0-py3-none-any.whl (85 kB)\n",
            "\u001b[2K   \u001b[90m━━━━━━━━━━━━━━━━━━━━━━━━━━━━━━━━━━━━━━━━\u001b[0m \u001b[32m85.7/85.7 kB\u001b[0m \u001b[31m2.1 MB/s\u001b[0m eta \u001b[36m0:00:00\u001b[0ma \u001b[36m0:00:01\u001b[0m\n",
            "\u001b[?25hInstalling collected packages: category-encoders\n",
            "  Attempting uninstall: category-encoders\n",
            "    Found existing installation: category_encoders 2.7.0\n",
            "    Uninstalling category_encoders-2.7.0:\n",
            "      Successfully uninstalled category_encoders-2.7.0\n",
            "Successfully installed category-encoders-2.8.0\n"
          ]
        }
      ],
      "source": [
        "!pip install --upgrade category-encoders\n"
      ]
    },
    {
      "cell_type": "code",
      "execution_count": null,
      "metadata": {
        "id": "9DdVPjrLaQAw",
        "trusted": true
      },
      "outputs": [],
      "source": []
    }
  ],
  "metadata": {
    "colab": {
      "name": "DEPI AIS2",
      "provenance": []
    },
    "kaggle": {
      "accelerator": "none",
      "dataSources": [
        {
          "datasetId": 1582403,
          "sourceId": 2603715,
          "sourceType": "datasetVersion"
        }
      ],
      "dockerImageVersionId": 30839,
      "isGpuEnabled": false,
      "isInternetEnabled": true,
      "language": "python",
      "sourceType": "notebook"
    },
    "kernelspec": {
      "display_name": "Python 3",
      "language": "python",
      "name": "python3"
    },
    "language_info": {
      "codemirror_mode": {
        "name": "ipython",
        "version": 3
      },
      "file_extension": ".py",
      "mimetype": "text/x-python",
      "name": "python",
      "nbconvert_exporter": "python",
      "pygments_lexer": "ipython3",
      "version": "3.10.12"
    }
  },
  "nbformat": 4,
  "nbformat_minor": 0
}
